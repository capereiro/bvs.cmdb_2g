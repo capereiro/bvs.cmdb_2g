{
 "cells": [
  {
   "cell_type": "markdown",
   "metadata": {},
   "source": [
    "# BVS Files Maker\n",
    "`VERSION: 1.0`\n",
    "## Indice\n",
    "> * `TARJETA_EQUIPO.csv`\n",
    "> * `LINEAS_CONTRATO.csv`\n",
    "> * `CABECERA_CONTRATO.txt`"
   ]
  },
  {
   "cell_type": "markdown",
   "metadata": {},
   "source": [
    "## Generación TARJETA_EQUIPO"
   ]
  },
  {
   "cell_type": "code",
   "execution_count": 1,
   "metadata": {},
   "outputs": [],
   "source": [
    "import pandas as pd\n",
    "import numpy as np"
   ]
  },
  {
   "cell_type": "markdown",
   "metadata": {},
   "source": [
    "#### Carga cruda de datos en datagrama y generación de columnas adicionales"
   ]
  },
  {
   "cell_type": "code",
   "execution_count": 2,
   "metadata": {},
   "outputs": [],
   "source": [
    "# Lectura del quote Cisco (unicamente). Se descartan las 27 primeras líneas del header (\"skiprows\").\n",
    "df = pd.DataFrame(pd.read_excel('quote.xlsx', skiprows=26,encoding='ISO-8859-1'))"
   ]
  },
  {
   "cell_type": "code",
   "execution_count": 4,
   "metadata": {},
   "outputs": [],
   "source": [
    "# Agregado de columnas faltantes\n",
    "df[\"insID\"] = df.index+1 #indice\n",
    "df[\"status\"] = \"sns_Active\" #preguntar de donde sale este feature"
   ]
  },
  {
   "cell_type": "code",
   "execution_count": null,
   "metadata": {},
   "outputs": [],
   "source": [
    "# Reemplazo de index por insID\n",
    "# df.set_index(\"insID\", inplace=True)"
   ]
  },
  {
   "cell_type": "code",
   "execution_count": 6,
   "metadata": {},
   "outputs": [
    {
     "data": {
      "text/plain": [
       "(34, 66)"
      ]
     },
     "execution_count": 6,
     "metadata": {},
     "output_type": "execute_result"
    }
   ],
   "source": [
    "# Tamaño del datagrama\n",
    "df.shape"
   ]
  },
  {
   "cell_type": "markdown",
   "metadata": {},
   "source": [
    "#### Limpieza de datos y generación de datagrama definitivo"
   ]
  },
  {
   "cell_type": "code",
   "execution_count": 7,
   "metadata": {},
   "outputs": [],
   "source": [
    "# Reemplazo de np.nan's por \" \"\n",
    "df.replace(np.nan,\"\",inplace=True)"
   ]
  },
  {
   "cell_type": "code",
   "execution_count": 8,
   "metadata": {},
   "outputs": [
    {
     "data": {
      "text/html": [
       "<div>\n",
       "<style scoped>\n",
       "    .dataframe tbody tr th:only-of-type {\n",
       "        vertical-align: middle;\n",
       "    }\n",
       "\n",
       "    .dataframe tbody tr th {\n",
       "        vertical-align: top;\n",
       "    }\n",
       "\n",
       "    .dataframe thead th {\n",
       "        text-align: right;\n",
       "    }\n",
       "</style>\n",
       "<table border=\"1\" class=\"dataframe\">\n",
       "  <thead>\n",
       "    <tr style=\"text-align: right;\">\n",
       "      <th></th>\n",
       "      <th>Product Number</th>\n",
       "      <th>Product Description</th>\n",
       "      <th>Last Date of Support</th>\n",
       "      <th>PAK/Serial Number</th>\n",
       "      <th>Instance Number</th>\n",
       "      <th>Major/Minor</th>\n",
       "      <th>Parent Instance Number</th>\n",
       "      <th>Line Type</th>\n",
       "      <th>Host ID/Mac ID</th>\n",
       "      <th>Service Level</th>\n",
       "      <th>...</th>\n",
       "      <th>Service List Factor</th>\n",
       "      <th>Smart Account / Virtual Account</th>\n",
       "      <th>Initial Term (Months)</th>\n",
       "      <th>Billing Frequency</th>\n",
       "      <th>Automatically Renews For</th>\n",
       "      <th>Subscription ID</th>\n",
       "      <th>Reference Serial Number</th>\n",
       "      <th>Reference Instance Number</th>\n",
       "      <th>insID</th>\n",
       "      <th>status</th>\n",
       "    </tr>\n",
       "  </thead>\n",
       "  <tbody>\n",
       "    <tr>\n",
       "      <th>0</th>\n",
       "      <td>ASR1004</td>\n",
       "      <td>Cisco ASR1004 Chassis, Dual P/S</td>\n",
       "      <td>1745971200000000000</td>\n",
       "      <td>FOX1517H4HE</td>\n",
       "      <td>810189597</td>\n",
       "      <td>Major</td>\n",
       "      <td>810189597</td>\n",
       "      <td>NEW</td>\n",
       "      <td></td>\n",
       "      <td>SNTP</td>\n",
       "      <td>...</td>\n",
       "      <td></td>\n",
       "      <td></td>\n",
       "      <td></td>\n",
       "      <td></td>\n",
       "      <td></td>\n",
       "      <td></td>\n",
       "      <td></td>\n",
       "      <td></td>\n",
       "      <td>1</td>\n",
       "      <td>sns_Active</td>\n",
       "    </tr>\n",
       "    <tr>\n",
       "      <th>1</th>\n",
       "      <td>SPA-10X1GE-V2</td>\n",
       "      <td>Cisco 10-Port Gigabit Ethernet Shared Port Ada...</td>\n",
       "      <td></td>\n",
       "      <td>JAE15130B5S</td>\n",
       "      <td>810189641</td>\n",
       "      <td>Minor</td>\n",
       "      <td>810189597</td>\n",
       "      <td>NEW</td>\n",
       "      <td></td>\n",
       "      <td>SNTP</td>\n",
       "      <td>...</td>\n",
       "      <td></td>\n",
       "      <td></td>\n",
       "      <td></td>\n",
       "      <td></td>\n",
       "      <td></td>\n",
       "      <td></td>\n",
       "      <td></td>\n",
       "      <td></td>\n",
       "      <td>2</td>\n",
       "      <td>sns_Active</td>\n",
       "    </tr>\n",
       "    <tr>\n",
       "      <th>2</th>\n",
       "      <td>ASR1000-SIP-BLANK</td>\n",
       "      <td>Blank Cover ASR1000 SIP</td>\n",
       "      <td></td>\n",
       "      <td></td>\n",
       "      <td>810189705</td>\n",
       "      <td>Minor</td>\n",
       "      <td>810189597</td>\n",
       "      <td>NEW</td>\n",
       "      <td></td>\n",
       "      <td>SNTP</td>\n",
       "      <td>...</td>\n",
       "      <td></td>\n",
       "      <td></td>\n",
       "      <td></td>\n",
       "      <td></td>\n",
       "      <td></td>\n",
       "      <td></td>\n",
       "      <td></td>\n",
       "      <td></td>\n",
       "      <td>3</td>\n",
       "      <td>sns_Active</td>\n",
       "    </tr>\n",
       "  </tbody>\n",
       "</table>\n",
       "<p>3 rows × 66 columns</p>\n",
       "</div>"
      ],
      "text/plain": [
       "      Product Number                                Product Description  \\\n",
       "0            ASR1004                    Cisco ASR1004 Chassis, Dual P/S   \n",
       "1      SPA-10X1GE-V2  Cisco 10-Port Gigabit Ethernet Shared Port Ada...   \n",
       "2  ASR1000-SIP-BLANK                            Blank Cover ASR1000 SIP   \n",
       "\n",
       "  Last Date of Support PAK/Serial Number  Instance Number Major/Minor  \\\n",
       "0  1745971200000000000       FOX1517H4HE        810189597       Major   \n",
       "1                            JAE15130B5S        810189641       Minor   \n",
       "2                                               810189705       Minor   \n",
       "\n",
       "   Parent Instance Number Line Type Host ID/Mac ID Service Level  ...  \\\n",
       "0               810189597       NEW                         SNTP  ...   \n",
       "1               810189597       NEW                         SNTP  ...   \n",
       "2               810189597       NEW                         SNTP  ...   \n",
       "\n",
       "  Service List Factor Smart Account / Virtual Account Initial Term (Months)  \\\n",
       "0                                                                             \n",
       "1                                                                             \n",
       "2                                                                             \n",
       "\n",
       "  Billing Frequency Automatically Renews For Subscription ID  \\\n",
       "0                                                              \n",
       "1                                                              \n",
       "2                                                              \n",
       "\n",
       "  Reference Serial Number Reference Instance Number  insID      status  \n",
       "0                                                        1  sns_Active  \n",
       "1                                                        2  sns_Active  \n",
       "2                                                        3  sns_Active  \n",
       "\n",
       "[3 rows x 66 columns]"
      ]
     },
     "execution_count": 8,
     "metadata": {},
     "output_type": "execute_result"
    }
   ],
   "source": [
    "df.head(3)"
   ]
  },
  {
   "cell_type": "code",
   "execution_count": 9,
   "metadata": {},
   "outputs": [],
   "source": [
    "# Generación de nombres de columnas\n",
    " # filtro_columnas: son las columnas que nos interesan del DF fuente y se utilizarán para filtrar el mismo DF\n",
    " # columnas_definitivas: son los nombres con los que deben llamarse en df_tarjeta_equipo\n",
    " # cabecera: es un requerimiento del SAP, se traduce como un DF con dos headers\n",
    "filtro_columnas = [\"insID\", \"End Customer ID\", \"Instance Number\", \"PAK/Serial Number\", \"Product Number\", \"Product Description\", \"End Customer Address Line 1\",\"End Customer Zip/Postal Code\" ,\"End Customer City\", \"End Customer Country\", \"status\"]\n",
    "columnas_definitivas = [\"insID\",\"customer\", \"manufSN\", \"internalSN\", \"itemCode\", \"itemName\", \"street\", \"zip\", \"city\", \"county\", \"status\"]\n",
    "cabecera = [\"EquipmentCardNum\", \"CustomerCode\", \"ManufacturerSerialNum\", \"InternalSerialNum\", \"ItemCode\", \"ItemDescription\",\"Street\", \"ZipCode\", \"City\", \"County\", \"StatusOfSerialNumber\"]"
   ]
  },
  {
   "cell_type": "code",
   "execution_count": 10,
   "metadata": {},
   "outputs": [],
   "source": [
    "# Generación de DF definitivo (df_tarjeta_equipo) con las columnas de interés\n",
    "df_tarjeta_equipo = pd.DataFrame(df[filtro_columnas])\n",
    "\n",
    "# DF final con los nombres de columnas actualizados según \"columnas_definitivas\"\n",
    "df_tarjeta_equipo.columns = columnas_definitivas\n",
    "\n",
    "# Agregado de un segundo Header (Asi lo requiere SAP...). En este caso ambos Headers son idénticos\n",
    "df_tarjeta_equipo.columns = pd.MultiIndex.from_tuples(\n",
    "    zip(cabecera, \n",
    "        df_tarjeta_equipo.columns))"
   ]
  },
  {
   "cell_type": "code",
   "execution_count": 11,
   "metadata": {},
   "outputs": [
    {
     "data": {
      "text/html": [
       "<div>\n",
       "<style scoped>\n",
       "    .dataframe tbody tr th:only-of-type {\n",
       "        vertical-align: middle;\n",
       "    }\n",
       "\n",
       "    .dataframe tbody tr th {\n",
       "        vertical-align: top;\n",
       "    }\n",
       "\n",
       "    .dataframe thead tr th {\n",
       "        text-align: left;\n",
       "    }\n",
       "</style>\n",
       "<table border=\"1\" class=\"dataframe\">\n",
       "  <thead>\n",
       "    <tr>\n",
       "      <th></th>\n",
       "      <th>EquipmentCardNum</th>\n",
       "      <th>CustomerCode</th>\n",
       "      <th>ManufacturerSerialNum</th>\n",
       "      <th>InternalSerialNum</th>\n",
       "      <th>ItemCode</th>\n",
       "      <th>ItemDescription</th>\n",
       "      <th>Street</th>\n",
       "      <th>ZipCode</th>\n",
       "      <th>City</th>\n",
       "      <th>County</th>\n",
       "      <th>StatusOfSerialNumber</th>\n",
       "    </tr>\n",
       "    <tr>\n",
       "      <th></th>\n",
       "      <th>insID</th>\n",
       "      <th>customer</th>\n",
       "      <th>manufSN</th>\n",
       "      <th>internalSN</th>\n",
       "      <th>itemCode</th>\n",
       "      <th>itemName</th>\n",
       "      <th>street</th>\n",
       "      <th>zip</th>\n",
       "      <th>city</th>\n",
       "      <th>county</th>\n",
       "      <th>status</th>\n",
       "    </tr>\n",
       "  </thead>\n",
       "  <tbody>\n",
       "    <tr>\n",
       "      <th>0</th>\n",
       "      <td>1</td>\n",
       "      <td>405432182</td>\n",
       "      <td>810189597</td>\n",
       "      <td>FOX1517H4HE</td>\n",
       "      <td>ASR1004</td>\n",
       "      <td>Cisco ASR1004 Chassis, Dual P/S</td>\n",
       "      <td>PERU 169</td>\n",
       "      <td>1067</td>\n",
       "      <td>CAPITAL FEDERAL</td>\n",
       "      <td>AR</td>\n",
       "      <td>sns_Active</td>\n",
       "    </tr>\n",
       "    <tr>\n",
       "      <th>1</th>\n",
       "      <td>2</td>\n",
       "      <td>405432182</td>\n",
       "      <td>810189641</td>\n",
       "      <td>JAE15130B5S</td>\n",
       "      <td>SPA-10X1GE-V2</td>\n",
       "      <td>Cisco 10-Port Gigabit Ethernet Shared Port Ada...</td>\n",
       "      <td>PERU 169</td>\n",
       "      <td>1067</td>\n",
       "      <td>CAPITAL FEDERAL</td>\n",
       "      <td>AR</td>\n",
       "      <td>sns_Active</td>\n",
       "    </tr>\n",
       "    <tr>\n",
       "      <th>2</th>\n",
       "      <td>3</td>\n",
       "      <td>405432182</td>\n",
       "      <td>810189705</td>\n",
       "      <td></td>\n",
       "      <td>ASR1000-SIP-BLANK</td>\n",
       "      <td>Blank Cover ASR1000 SIP</td>\n",
       "      <td>PERU 169</td>\n",
       "      <td>1067</td>\n",
       "      <td>CAPITAL FEDERAL</td>\n",
       "      <td>AR</td>\n",
       "      <td>sns_Active</td>\n",
       "    </tr>\n",
       "  </tbody>\n",
       "</table>\n",
       "</div>"
      ],
      "text/plain": [
       "  EquipmentCardNum CustomerCode ManufacturerSerialNum InternalSerialNum  \\\n",
       "             insID     customer               manufSN        internalSN   \n",
       "0                1    405432182             810189597       FOX1517H4HE   \n",
       "1                2    405432182             810189641       JAE15130B5S   \n",
       "2                3    405432182             810189705                     \n",
       "\n",
       "            ItemCode                                    ItemDescription  \\\n",
       "            itemCode                                           itemName   \n",
       "0            ASR1004                    Cisco ASR1004 Chassis, Dual P/S   \n",
       "1      SPA-10X1GE-V2  Cisco 10-Port Gigabit Ethernet Shared Port Ada...   \n",
       "2  ASR1000-SIP-BLANK                            Blank Cover ASR1000 SIP   \n",
       "\n",
       "     Street ZipCode             City County StatusOfSerialNumber  \n",
       "     street     zip             city county               status  \n",
       "0  PERU 169    1067  CAPITAL FEDERAL     AR           sns_Active  \n",
       "1  PERU 169    1067  CAPITAL FEDERAL     AR           sns_Active  \n",
       "2  PERU 169    1067  CAPITAL FEDERAL     AR           sns_Active  "
      ]
     },
     "execution_count": 11,
     "metadata": {},
     "output_type": "execute_result"
    }
   ],
   "source": [
    "# Listado de ejemplo\n",
    "df_tarjeta_equipo.head(3)"
   ]
  },
  {
   "cell_type": "markdown",
   "metadata": {},
   "source": [
    "#### Generación de archivo de salida.txt"
   ]
  },
  {
   "cell_type": "code",
   "execution_count": 12,
   "metadata": {},
   "outputs": [],
   "source": [
    "# *** EN PROCESO DE TESTING ***\n",
    "# *** POR EL MOMENTO NO ESTA DESARROLLADA LA SALIDA EN .TXT ***\n",
    "\n",
    "# numpy_array = df_tarjeta_equipo.to_numpy()\n",
    "# np.savetxt(\"test_tarjeta_equipo.txt\", numpy_array, fmt = \"%s\")\n"
   ]
  },
  {
   "cell_type": "code",
   "execution_count": 13,
   "metadata": {},
   "outputs": [],
   "source": [
    "# Salida en formato xls\n",
    "# df_tarjeta_equipo.to_excel(\"1.test_tarjeta_equipo.xls\", index = False)"
   ]
  },
  {
   "cell_type": "code",
   "execution_count": 14,
   "metadata": {},
   "outputs": [],
   "source": [
    "# Salida en formato csv\n",
    "df_tarjeta_equipo.to_csv(\"1.test_tarjeta_equipo.csv\", index = False)"
   ]
  },
  {
   "cell_type": "markdown",
   "metadata": {},
   "source": [
    "## Generación LINEAS_CONTRATO"
   ]
  },
  {
   "cell_type": "code",
   "execution_count": null,
   "metadata": {},
   "outputs": [],
   "source": [
    "import pandas as pd\n",
    "import numpy as np"
   ]
  },
  {
   "cell_type": "markdown",
   "metadata": {},
   "source": [
    "#### Carga cruda de datos en datagrama y generación de columnas adicionales"
   ]
  },
  {
   "cell_type": "code",
   "execution_count": null,
   "metadata": {},
   "outputs": [],
   "source": [
    "# Lectura del quote Cisco (unicamente)\n",
    "df = pd.DataFrame(pd.read_excel('quote.xlsx', skiprows=26,encoding='ISO-8859-1'))"
   ]
  },
  {
   "cell_type": "code",
   "execution_count": null,
   "metadata": {},
   "outputs": [],
   "source": [
    "# TBModify: Features para tomar nombre desde teclado\n",
    "u_vendor_contract = \"* CISCO *\"\n",
    "u_ov = \"* OV xxxxx BVS TV SA *\"\n",
    "\n",
    "# TBModify: Features que no se saben de donde sales\n",
    "u_status_vendor = \"* ACTIVE *\"\n",
    "\n",
    "# Agregado de columnas faltantes\n",
    "df[\"LineNum\"] = df.index+1\n",
    "df[\"U_VendorContract\"] =  u_vendor_contract # preguntar de donde sale este feature\n",
    "df[\"U_OV\"] = u_ov # preguntar de donde sale este feature\n",
    "df[\"U_StatusVendor\"] = u_status_vendor # preguntar de donde sale este feature\n",
    "\n",
    "# Tamaño del datagrama\n",
    "df.shape"
   ]
  },
  {
   "cell_type": "markdown",
   "metadata": {},
   "source": [
    "#### Limpieza de datos y generación de datagrama definitivo"
   ]
  },
  {
   "cell_type": "code",
   "execution_count": null,
   "metadata": {},
   "outputs": [],
   "source": [
    "# Reemplazo de np.nan's por \" \"\n",
    "df.replace(np.nan,\"\",inplace=True)\n",
    "\n",
    "df.head(3)"
   ]
  },
  {
   "cell_type": "code",
   "execution_count": null,
   "metadata": {},
   "outputs": [],
   "source": [
    "# Generación de nombres de columnas\n",
    " # filtro_columnas: son las columnas requeridas del DF fuente\n",
    " # columnas_definitivas: son los nombres con los que deben llamarse en df_tarjeta_equipo\n",
    "filtro_columnas = [\"Parent Instance Number\", \"LineNum\", \"Product Number\", \"Product Description\", \"Instance Number\", \"PAK/Serial Number\", \"Start Date\",\"End Date\" ,\"U_StatusVendor\", \"Service Level Description\", \"U_OV\", \"End Customer Name\", \"U_VendorContract\"]\n",
    "columnas_definitivas = [\"ParentKey\", \"LineNum\", \"itemCode\", \"itemName\", \"ManufSN\", \"InternalSN\", \"StartDate\", \"EndDate\", \"U_StatusVendor\", \"U_ServSKU\", \"U_OV\", \"U_EndCustomer\", \"U_VendorContract\"]"
   ]
  },
  {
   "cell_type": "code",
   "execution_count": null,
   "metadata": {},
   "outputs": [],
   "source": [
    "# Generación de DF definitivo (df_tarjeta_equipo) con las columnas de interés\n",
    "df_lineas_contrato = pd.DataFrame(df[filtro_columnas])\n",
    "\n",
    "# DF final con los nombres de columnas actualizados según \"columnas_definitivas\"\n",
    "df_lineas_contrato.columns = columnas_definitivas\n",
    "\n",
    "# Agregado de un segundo Header (Asi lo requiere SAP...). En este caso ambos Headers son idénticos\n",
    "df_lineas_contrato.columns = pd.MultiIndex.from_tuples(\n",
    "    zip(columnas_definitivas, \n",
    "        df_lineas_contrato.columns))\n",
    "\n",
    "# Listado de ejemplo\n",
    "df_lineas_contrato.head(3)"
   ]
  },
  {
   "cell_type": "code",
   "execution_count": null,
   "metadata": {},
   "outputs": [],
   "source": []
  },
  {
   "cell_type": "code",
   "execution_count": null,
   "metadata": {
    "scrolled": true
   },
   "outputs": [],
   "source": [
    "#### Generación de archivo de salida.txt\n",
    "\n",
    "# df_lineas_contrato.to_excel(\"2.test_lineas_contrato.xls\", index = False)\n",
    "df_lineas_contrato.to_csv(\"2.test_lineas_contrato.csv\", index = False)"
   ]
  },
  {
   "cell_type": "code",
   "execution_count": null,
   "metadata": {},
   "outputs": [],
   "source": []
  },
  {
   "cell_type": "code",
   "execution_count": null,
   "metadata": {},
   "outputs": [],
   "source": []
  }
 ],
 "metadata": {
  "kernelspec": {
   "display_name": "Python 3",
   "language": "python",
   "name": "python3"
  },
  "language_info": {
   "codemirror_mode": {
    "name": "ipython",
    "version": 3
   },
   "file_extension": ".py",
   "mimetype": "text/x-python",
   "name": "python",
   "nbconvert_exporter": "python",
   "pygments_lexer": "ipython3",
   "version": "3.7.3"
  }
 },
 "nbformat": 4,
 "nbformat_minor": 2
}
