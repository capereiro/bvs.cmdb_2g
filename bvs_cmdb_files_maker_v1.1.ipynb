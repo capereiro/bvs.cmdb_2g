{
 "cells": [
  {
   "cell_type": "markdown",
   "metadata": {},
   "source": [
    "# BVS Files Maker\n",
    "`VERSION: 1.1`: Incluye lectura de `CABECERA_CONTRATO`\n",
    "## Indice\n",
    "> * `CABECERA_CONTRATO.txt`\n",
    "> * `TARJETA_EQUIPO.csv`\n",
    "> * `LINEAS_CONTRATO.csv`"
   ]
  },
  {
   "cell_type": "markdown",
   "metadata": {},
   "source": [
    "## Carga de librerías"
   ]
  },
  {
   "cell_type": "code",
   "execution_count": 1,
   "metadata": {},
   "outputs": [],
   "source": [
    "import pandas as pd\n",
    "import numpy as np"
   ]
  },
  {
   "cell_type": "markdown",
   "metadata": {},
   "source": [
    "## Lectura CABECERA_CONTRATO"
   ]
  },
  {
   "cell_type": "code",
   "execution_count": 17,
   "metadata": {},
   "outputs": [],
   "source": [
    "# Lectura del archivo CABECERA_CONTRATO previamente completado por el CMDB ADMIN.\n",
    "#ccr: cabecera_contrato_raw_df\n",
    "ccr_df = pd.DataFrame(pd.read_excel('CABECERA_CONTRATO.xlsx', skiprows=1 ,encoding='ISO-8859-1'))\n",
    "# ccr_df = pd.DataFrame(pd.read_excel('CABECERA_CONTRATO_RAW.xlsx', skiprows=1 ,encoding='ISO-8859-1'))"
   ]
  },
  {
   "cell_type": "code",
   "execution_count": 18,
   "metadata": {},
   "outputs": [],
   "source": [
    "# Generación de nombres de columnas\n",
    " # cc_cabecera: es un requerimiento del SAP, se traduce como un DF con dos headers\n",
    "cc_cabecera = [\"ContractID\", \"CustomerCode\", \"Status\", \"ContractType\", \"Renewal\", \"StartDate\", \"EndDate\", \"Description\",\n",
    "            \"ServiceType\", \"U_ServType\", \"U_Provider\", \"U_ServiceName\"]\n",
    "cc_columnas_definitivas = [\"ContractID\", \"CstmrCode\", \"Status\", \"CntrcType\", \"Renewal\", \"StartDate\", \"EndDate\", \"Descriptio\", \"SrvcType\", \"U_ServType\", \"U_Provider\"]\n"
   ]
  },
  {
   "cell_type": "code",
   "execution_count": 19,
   "metadata": {},
   "outputs": [],
   "source": [
    "# Agregado de un segundo Header (Asi lo requiere SAP...). En este caso ambos Headers son idénticos\n",
    "\n",
    "# ccr_df.columns = pd.MultiIndex.from_tuples(\n",
    "#     zip(cabecera, df_tarjeta_equipo.columns))"
   ]
  },
  {
   "cell_type": "code",
   "execution_count": 20,
   "metadata": {},
   "outputs": [],
   "source": [
    "# Eliminación de NaN's\n",
    "ccr_df.replace(np.nan, \"\", inplace=True)"
   ]
  },
  {
   "cell_type": "code",
   "execution_count": 21,
   "metadata": {},
   "outputs": [
    {
     "data": {
      "text/html": [
       "<div>\n",
       "<style scoped>\n",
       "    .dataframe tbody tr th:only-of-type {\n",
       "        vertical-align: middle;\n",
       "    }\n",
       "\n",
       "    .dataframe tbody tr th {\n",
       "        vertical-align: top;\n",
       "    }\n",
       "\n",
       "    .dataframe thead th {\n",
       "        text-align: right;\n",
       "    }\n",
       "</style>\n",
       "<table border=\"1\" class=\"dataframe\">\n",
       "  <thead>\n",
       "    <tr style=\"text-align: right;\">\n",
       "      <th></th>\n",
       "      <th>ContractID</th>\n",
       "      <th>CstmrCode</th>\n",
       "      <th>Status</th>\n",
       "      <th>CntrcType</th>\n",
       "      <th>Renewal</th>\n",
       "      <th>StartDate</th>\n",
       "      <th>EndDate</th>\n",
       "      <th>Descriptio</th>\n",
       "      <th>SrvcType</th>\n",
       "      <th>U_ServType</th>\n",
       "      <th>U_Provider</th>\n",
       "      <th>U_ServiceName</th>\n",
       "      <th>U_OV</th>\n",
       "      <th>U_StatusVendor</th>\n",
       "    </tr>\n",
       "  </thead>\n",
       "  <tbody>\n",
       "    <tr>\n",
       "      <th>0</th>\n",
       "      <td>0</td>\n",
       "      <td>C30500010084</td>\n",
       "      <td>scs_Approved</td>\n",
       "      <td>ct_SerialNumber</td>\n",
       "      <td>tNO</td>\n",
       "      <td>2021-01-01</td>\n",
       "      <td>2021-12-31</td>\n",
       "      <td></td>\n",
       "      <td>bst_Regular</td>\n",
       "      <td></td>\n",
       "      <td>CISCO</td>\n",
       "      <td>SMARTNET</td>\n",
       "      <td>123qwe</td>\n",
       "      <td>ACTIVE</td>\n",
       "    </tr>\n",
       "    <tr>\n",
       "      <th>1</th>\n",
       "      <td>1</td>\n",
       "      <td>C30500010084</td>\n",
       "      <td>scs_Approved</td>\n",
       "      <td>ct_SerialNumber</td>\n",
       "      <td>tNO</td>\n",
       "      <td>2021-01-01</td>\n",
       "      <td>2021-12-31</td>\n",
       "      <td></td>\n",
       "      <td>bst_Regular</td>\n",
       "      <td></td>\n",
       "      <td>BVS</td>\n",
       "      <td>BCARE</td>\n",
       "      <td>456asdf</td>\n",
       "      <td>ACTIVE</td>\n",
       "    </tr>\n",
       "  </tbody>\n",
       "</table>\n",
       "</div>"
      ],
      "text/plain": [
       "   ContractID     CstmrCode        Status        CntrcType Renewal  StartDate  \\\n",
       "0           0  C30500010084  scs_Approved  ct_SerialNumber     tNO 2021-01-01   \n",
       "1           1  C30500010084  scs_Approved  ct_SerialNumber     tNO 2021-01-01   \n",
       "\n",
       "     EndDate Descriptio     SrvcType U_ServType U_Provider U_ServiceName  \\\n",
       "0 2021-12-31             bst_Regular                 CISCO      SMARTNET   \n",
       "1 2021-12-31             bst_Regular                   BVS         BCARE   \n",
       "\n",
       "      U_OV U_StatusVendor  \n",
       "0   123qwe         ACTIVE  \n",
       "1  456asdf         ACTIVE  "
      ]
     },
     "execution_count": 21,
     "metadata": {},
     "output_type": "execute_result"
    }
   ],
   "source": [
    "ccr_df"
   ]
  },
  {
   "cell_type": "markdown",
   "metadata": {},
   "source": [
    "TODO: \n",
    "* Implementar las columas y cabecera definitivo\n",
    "* Implementar el archivo .CSV\n"
   ]
  },
  {
   "cell_type": "raw",
   "metadata": {},
   "source": []
  },
  {
   "cell_type": "code",
   "execution_count": null,
   "metadata": {},
   "outputs": [],
   "source": []
  },
  {
   "cell_type": "code",
   "execution_count": null,
   "metadata": {},
   "outputs": [],
   "source": []
  },
  {
   "cell_type": "markdown",
   "metadata": {},
   "source": [
    "## Generación TARJETA_EQUIPO"
   ]
  },
  {
   "cell_type": "markdown",
   "metadata": {},
   "source": [
    "NOTA: Un DF de esta tarjeta se utiliza para replicarlo por `ContractID` definido en CABECERA_CONTRATO"
   ]
  },
  {
   "cell_type": "markdown",
   "metadata": {},
   "source": [
    "TODO: \n",
    "* Construir función que arme un DF que replique la TARJETA_EQUIPO (con sus contrato asociado) en un único DF que luego se llamará LINEAS_CONTRATO"
   ]
  },
  {
   "cell_type": "markdown",
   "metadata": {},
   "source": [
    "#### Carga cruda de datos en datagrama y generación de columnas adicionales"
   ]
  },
  {
   "cell_type": "code",
   "execution_count": 6,
   "metadata": {},
   "outputs": [],
   "source": [
    "# Lectura del quote Cisco (unicamente). Se descartan las 27 primeras líneas del header (\"skiprows\").\n",
    "ter_df = pd.DataFrame(pd.read_excel('quote.xlsx', skiprows=26,encoding='ISO-8859-1'))"
   ]
  },
  {
   "cell_type": "code",
   "execution_count": 7,
   "metadata": {},
   "outputs": [],
   "source": [
    "# Agregado de columnas faltantes\n",
    "ter_df[\"insID\"] = ter_df.index+1 #indice\n",
    "\n",
    "# Estas variables se completan al ejecutar funcion de generación de DF LINEAS_CONTRATO\n",
    "ter_df[\"customer\"] = \"\" # Tomar feature de CABECERA_CONTRATO\n",
    "ter_df[\"status\"] = \"\" # Tomar feature de CABECERA_CONTRATO\n"
   ]
  },
  {
   "cell_type": "code",
   "execution_count": null,
   "metadata": {},
   "outputs": [],
   "source": [
    "# Reemplazo de index por insID\n",
    "# df.set_index(\"insID\", inplace=True)"
   ]
  },
  {
   "cell_type": "code",
   "execution_count": 8,
   "metadata": {},
   "outputs": [
    {
     "data": {
      "text/plain": [
       "(2663, 68)"
      ]
     },
     "execution_count": 8,
     "metadata": {},
     "output_type": "execute_result"
    }
   ],
   "source": [
    "# Tamaño del datagrama\n",
    "ter_df.shape"
   ]
  },
  {
   "cell_type": "markdown",
   "metadata": {},
   "source": [
    "#### Limpieza de datos y generación de datagrama definitivo"
   ]
  },
  {
   "cell_type": "code",
   "execution_count": 9,
   "metadata": {},
   "outputs": [],
   "source": [
    "# Reemplazo de np.nan's por \" \"\n",
    "ter_df.replace(np.nan,\"\",inplace=True)"
   ]
  },
  {
   "cell_type": "code",
   "execution_count": 10,
   "metadata": {},
   "outputs": [
    {
     "data": {
      "text/html": [
       "<div>\n",
       "<style scoped>\n",
       "    .dataframe tbody tr th:only-of-type {\n",
       "        vertical-align: middle;\n",
       "    }\n",
       "\n",
       "    .dataframe tbody tr th {\n",
       "        vertical-align: top;\n",
       "    }\n",
       "\n",
       "    .dataframe thead th {\n",
       "        text-align: right;\n",
       "    }\n",
       "</style>\n",
       "<table border=\"1\" class=\"dataframe\">\n",
       "  <thead>\n",
       "    <tr style=\"text-align: right;\">\n",
       "      <th></th>\n",
       "      <th>Product Number</th>\n",
       "      <th>Product Description</th>\n",
       "      <th>Last Date of Support</th>\n",
       "      <th>PAK/Serial Number</th>\n",
       "      <th>Instance Number</th>\n",
       "      <th>Major/Minor</th>\n",
       "      <th>Parent Instance Number</th>\n",
       "      <th>Line Type</th>\n",
       "      <th>Host ID/Mac ID</th>\n",
       "      <th>Service Level</th>\n",
       "      <th>...</th>\n",
       "      <th>Smart Account / Virtual Account</th>\n",
       "      <th>Initial Term (Months)</th>\n",
       "      <th>Billing Frequency</th>\n",
       "      <th>Automatically Renews For</th>\n",
       "      <th>Subscription ID</th>\n",
       "      <th>Reference Serial Number</th>\n",
       "      <th>Reference Instance Number</th>\n",
       "      <th>insID</th>\n",
       "      <th>customer</th>\n",
       "      <th>status</th>\n",
       "    </tr>\n",
       "  </thead>\n",
       "  <tbody>\n",
       "    <tr>\n",
       "      <th>0</th>\n",
       "      <td>AIR-CT5508-50-K9</td>\n",
       "      <td>^5508 Series Controller for up to 50 APs</td>\n",
       "      <td>1690761600000000000</td>\n",
       "      <td>FCW1728L01U</td>\n",
       "      <td>1526561268</td>\n",
       "      <td>Major</td>\n",
       "      <td>1526561268</td>\n",
       "      <td>NEW</td>\n",
       "      <td></td>\n",
       "      <td>SNT</td>\n",
       "      <td>...</td>\n",
       "      <td>CABLEVISION S.A.-DEFAULT</td>\n",
       "      <td></td>\n",
       "      <td></td>\n",
       "      <td></td>\n",
       "      <td></td>\n",
       "      <td></td>\n",
       "      <td></td>\n",
       "      <td>1</td>\n",
       "      <td></td>\n",
       "      <td></td>\n",
       "    </tr>\n",
       "    <tr>\n",
       "      <th>1</th>\n",
       "      <td>PI-MSE-PRMO-INSRT</td>\n",
       "      <td>Insert, Packout - PI-MSE</td>\n",
       "      <td></td>\n",
       "      <td></td>\n",
       "      <td>1526561310</td>\n",
       "      <td>Minor</td>\n",
       "      <td>1526561268</td>\n",
       "      <td>NEW</td>\n",
       "      <td></td>\n",
       "      <td>SNT</td>\n",
       "      <td>...</td>\n",
       "      <td>CABLEVISION S.A.-DEFAULT</td>\n",
       "      <td></td>\n",
       "      <td></td>\n",
       "      <td></td>\n",
       "      <td></td>\n",
       "      <td></td>\n",
       "      <td></td>\n",
       "      <td>2</td>\n",
       "      <td></td>\n",
       "      <td></td>\n",
       "    </tr>\n",
       "    <tr>\n",
       "      <th>2</th>\n",
       "      <td>SWC5500K9-73</td>\n",
       "      <td>Cisco Unified Wireless Controller SW Release 7.3</td>\n",
       "      <td></td>\n",
       "      <td></td>\n",
       "      <td>1526561320</td>\n",
       "      <td>Minor</td>\n",
       "      <td>1526561268</td>\n",
       "      <td>NEW</td>\n",
       "      <td></td>\n",
       "      <td>SNT</td>\n",
       "      <td>...</td>\n",
       "      <td>CABLEVISION S.A.-DEFAULT</td>\n",
       "      <td></td>\n",
       "      <td></td>\n",
       "      <td></td>\n",
       "      <td></td>\n",
       "      <td></td>\n",
       "      <td></td>\n",
       "      <td>3</td>\n",
       "      <td></td>\n",
       "      <td></td>\n",
       "    </tr>\n",
       "  </tbody>\n",
       "</table>\n",
       "<p>3 rows × 68 columns</p>\n",
       "</div>"
      ],
      "text/plain": [
       "      Product Number                               Product Description  \\\n",
       "0   AIR-CT5508-50-K9          ^5508 Series Controller for up to 50 APs   \n",
       "1  PI-MSE-PRMO-INSRT                          Insert, Packout - PI-MSE   \n",
       "2       SWC5500K9-73  Cisco Unified Wireless Controller SW Release 7.3   \n",
       "\n",
       "  Last Date of Support PAK/Serial Number  Instance Number Major/Minor  \\\n",
       "0  1690761600000000000       FCW1728L01U       1526561268       Major   \n",
       "1                                              1526561310       Minor   \n",
       "2                                              1526561320       Minor   \n",
       "\n",
       "   Parent Instance Number Line Type Host ID/Mac ID Service Level  ...  \\\n",
       "0              1526561268       NEW                          SNT  ...   \n",
       "1              1526561268       NEW                          SNT  ...   \n",
       "2              1526561268       NEW                          SNT  ...   \n",
       "\n",
       "  Smart Account / Virtual Account Initial Term (Months) Billing Frequency  \\\n",
       "0        CABLEVISION S.A.-DEFAULT                                           \n",
       "1        CABLEVISION S.A.-DEFAULT                                           \n",
       "2        CABLEVISION S.A.-DEFAULT                                           \n",
       "\n",
       "  Automatically Renews For Subscription ID Reference Serial Number  \\\n",
       "0                                                                    \n",
       "1                                                                    \n",
       "2                                                                    \n",
       "\n",
       "  Reference Instance Number insID  customer status  \n",
       "0                               1                   \n",
       "1                               2                   \n",
       "2                               3                   \n",
       "\n",
       "[3 rows x 68 columns]"
      ]
     },
     "execution_count": 10,
     "metadata": {},
     "output_type": "execute_result"
    }
   ],
   "source": [
    "ter_df.head(3)"
   ]
  },
  {
   "cell_type": "code",
   "execution_count": 11,
   "metadata": {},
   "outputs": [],
   "source": [
    "# Generación de nombres de columnas\n",
    " # filtro_columnas: son las columnas que nos interesan del DF fuente y se utilizarán para filtrar el mismo DF\n",
    " # columnas_definitivas: son los nombres con los que deben llamarse en df_tarjeta_equipo\n",
    " # cabecera: es un requerimiento del SAP, se traduce como un DF con dos headers\n",
    "filtro_columnas = [\"insID\", \"customer\", \"Instance Number\", \"PAK/Serial Number\", \"Product Number\", \"Product Description\", \"End Customer Address Line 1\",\"End Customer Zip/Postal Code\" ,\"End Customer City\", \"End Customer Country\", \"status\"]\n",
    "te_columnas_definitivas = [\"insID\",\"customer\", \"manufSN\", \"internalSN\", \"itemCode\", \"itemName\", \"street\", \"zip\", \"city\", \"county\", \"status\"]\n",
    "te_cabecera = [\"EquipmentCardNum\", \"CustomerCode\", \"ManufacturerSerialNum\", \"InternalSerialNum\", \"ItemCode\", \"ItemDescription\",\"Street\", \"ZipCode\", \"City\", \"County\", \"StatusOfSerialNumber\"]"
   ]
  },
  {
   "cell_type": "code",
   "execution_count": 12,
   "metadata": {},
   "outputs": [],
   "source": [
    "# Generación de DF tarjeta_equipo \"tipo\" (tet_df) con las columnas de interés\n",
    "te_df = pd.DataFrame(ter_df[filtro_columnas])\n",
    "\n",
    "# DF final con los nombres de columnas actualizados según \"columnas_definitivas\"\n",
    "te_df.columns = te_columnas_definitivas\n",
    "\n"
   ]
  },
  {
   "cell_type": "code",
   "execution_count": 14,
   "metadata": {},
   "outputs": [
    {
     "data": {
      "text/html": [
       "<div>\n",
       "<style scoped>\n",
       "    .dataframe tbody tr th:only-of-type {\n",
       "        vertical-align: middle;\n",
       "    }\n",
       "\n",
       "    .dataframe tbody tr th {\n",
       "        vertical-align: top;\n",
       "    }\n",
       "\n",
       "    .dataframe thead th {\n",
       "        text-align: right;\n",
       "    }\n",
       "</style>\n",
       "<table border=\"1\" class=\"dataframe\">\n",
       "  <thead>\n",
       "    <tr style=\"text-align: right;\">\n",
       "      <th></th>\n",
       "      <th>insID</th>\n",
       "      <th>customer</th>\n",
       "      <th>manufSN</th>\n",
       "      <th>internalSN</th>\n",
       "      <th>itemCode</th>\n",
       "      <th>itemName</th>\n",
       "      <th>street</th>\n",
       "      <th>zip</th>\n",
       "      <th>city</th>\n",
       "      <th>county</th>\n",
       "      <th>status</th>\n",
       "    </tr>\n",
       "  </thead>\n",
       "  <tbody>\n",
       "    <tr>\n",
       "      <th>0</th>\n",
       "      <td>1</td>\n",
       "      <td></td>\n",
       "      <td>1526561268</td>\n",
       "      <td>FCW1728L01U</td>\n",
       "      <td>AIR-CT5508-50-K9</td>\n",
       "      <td>^5508 Series Controller for up to 50 APs</td>\n",
       "      <td>GRAL HORNOS 690</td>\n",
       "      <td>1272</td>\n",
       "      <td>BUENOS AIRES</td>\n",
       "      <td>AR</td>\n",
       "      <td></td>\n",
       "    </tr>\n",
       "    <tr>\n",
       "      <th>1</th>\n",
       "      <td>2</td>\n",
       "      <td></td>\n",
       "      <td>1526561310</td>\n",
       "      <td></td>\n",
       "      <td>PI-MSE-PRMO-INSRT</td>\n",
       "      <td>Insert, Packout - PI-MSE</td>\n",
       "      <td>GRAL HORNOS 690</td>\n",
       "      <td>1272</td>\n",
       "      <td>BUENOS AIRES</td>\n",
       "      <td>AR</td>\n",
       "      <td></td>\n",
       "    </tr>\n",
       "    <tr>\n",
       "      <th>2</th>\n",
       "      <td>3</td>\n",
       "      <td></td>\n",
       "      <td>1526561320</td>\n",
       "      <td></td>\n",
       "      <td>SWC5500K9-73</td>\n",
       "      <td>Cisco Unified Wireless Controller SW Release 7.3</td>\n",
       "      <td>GRAL HORNOS 690</td>\n",
       "      <td>1272</td>\n",
       "      <td>BUENOS AIRES</td>\n",
       "      <td>AR</td>\n",
       "      <td></td>\n",
       "    </tr>\n",
       "    <tr>\n",
       "      <th>3</th>\n",
       "      <td>4</td>\n",
       "      <td></td>\n",
       "      <td>1526561285</td>\n",
       "      <td></td>\n",
       "      <td>AIR-PWR-CORD-AR</td>\n",
       "      <td>AIR Line Cord Argentina</td>\n",
       "      <td>GRAL HORNOS 690</td>\n",
       "      <td>1272</td>\n",
       "      <td>BUENOS AIRES</td>\n",
       "      <td>AR</td>\n",
       "      <td></td>\n",
       "    </tr>\n",
       "    <tr>\n",
       "      <th>4</th>\n",
       "      <td>5</td>\n",
       "      <td></td>\n",
       "      <td>1526561303</td>\n",
       "      <td></td>\n",
       "      <td>LIC-CT5508-BASE</td>\n",
       "      <td>Base Software License</td>\n",
       "      <td>GRAL HORNOS 690</td>\n",
       "      <td>1272</td>\n",
       "      <td>BUENOS AIRES</td>\n",
       "      <td>AR</td>\n",
       "      <td></td>\n",
       "    </tr>\n",
       "  </tbody>\n",
       "</table>\n",
       "</div>"
      ],
      "text/plain": [
       "   insID customer     manufSN   internalSN           itemCode  \\\n",
       "0      1           1526561268  FCW1728L01U   AIR-CT5508-50-K9   \n",
       "1      2           1526561310               PI-MSE-PRMO-INSRT   \n",
       "2      3           1526561320                    SWC5500K9-73   \n",
       "3      4           1526561285                 AIR-PWR-CORD-AR   \n",
       "4      5           1526561303                 LIC-CT5508-BASE   \n",
       "\n",
       "                                           itemName           street   zip  \\\n",
       "0          ^5508 Series Controller for up to 50 APs  GRAL HORNOS 690  1272   \n",
       "1                          Insert, Packout - PI-MSE  GRAL HORNOS 690  1272   \n",
       "2  Cisco Unified Wireless Controller SW Release 7.3  GRAL HORNOS 690  1272   \n",
       "3                           AIR Line Cord Argentina  GRAL HORNOS 690  1272   \n",
       "4                             Base Software License  GRAL HORNOS 690  1272   \n",
       "\n",
       "           city county status  \n",
       "0  BUENOS AIRES     AR         \n",
       "1  BUENOS AIRES     AR         \n",
       "2  BUENOS AIRES     AR         \n",
       "3  BUENOS AIRES     AR         \n",
       "4  BUENOS AIRES     AR         "
      ]
     },
     "execution_count": 14,
     "metadata": {},
     "output_type": "execute_result"
    }
   ],
   "source": [
    "#\"te tipo\" ya terminado y listo para utilizar en funcion de armado de DF completo\n",
    "te_df.head()"
   ]
  },
  {
   "cell_type": "code",
   "execution_count": 16,
   "metadata": {},
   "outputs": [
    {
     "data": {
      "text/plain": [
       "(2663, 11)"
      ]
     },
     "execution_count": 16,
     "metadata": {},
     "output_type": "execute_result"
    }
   ],
   "source": [
    "te_df.shape"
   ]
  },
  {
   "cell_type": "code",
   "execution_count": null,
   "metadata": {},
   "outputs": [],
   "source": []
  },
  {
   "cell_type": "code",
   "execution_count": null,
   "metadata": {},
   "outputs": [],
   "source": []
  },
  {
   "cell_type": "code",
   "execution_count": null,
   "metadata": {},
   "outputs": [],
   "source": []
  },
  {
   "cell_type": "code",
   "execution_count": null,
   "metadata": {},
   "outputs": [],
   "source": []
  },
  {
   "cell_type": "code",
   "execution_count": null,
   "metadata": {},
   "outputs": [],
   "source": []
  },
  {
   "cell_type": "code",
   "execution_count": null,
   "metadata": {},
   "outputs": [],
   "source": [
    "# Agregado de un segundo Header (Asi lo requiere SAP...). En este caso ambos Headers son idénticos\n",
    "tet_df.columns = pd.MultiIndex.from_tuples(\n",
    "    zip(te_cabecera, tet_df.columns))"
   ]
  },
  {
   "cell_type": "code",
   "execution_count": null,
   "metadata": {},
   "outputs": [],
   "source": [
    "# Listado de ejemplo\n",
    "tet_df.head(3)"
   ]
  },
  {
   "cell_type": "markdown",
   "metadata": {},
   "source": [
    "#### Generación de archivo de salida.txt"
   ]
  },
  {
   "cell_type": "code",
   "execution_count": null,
   "metadata": {},
   "outputs": [],
   "source": [
    "# *** EN PROCESO DE TESTING ***\n",
    "# *** POR EL MOMENTO NO ESTA DESARROLLADA LA SALIDA EN .TXT ***\n",
    "\n",
    "# numpy_array = df_tarjeta_equipo.to_numpy()\n",
    "# np.savetxt(\"test_tarjeta_equipo.txt\", numpy_array, fmt = \"%s\")\n"
   ]
  },
  {
   "cell_type": "code",
   "execution_count": null,
   "metadata": {},
   "outputs": [],
   "source": [
    "# Salida en formato xls\n",
    "# tet_df.to_excel(\"1.test_tarjeta_equipo.xls\", index = False)"
   ]
  },
  {
   "cell_type": "code",
   "execution_count": null,
   "metadata": {},
   "outputs": [],
   "source": [
    "# Salida en formato csv\n",
    "tet_df.to_csv(\"1.test_tarjeta_equipo.csv\", index = False)"
   ]
  },
  {
   "cell_type": "markdown",
   "metadata": {},
   "source": [
    "## Generación LINEAS_CONTRATO"
   ]
  },
  {
   "cell_type": "code",
   "execution_count": null,
   "metadata": {},
   "outputs": [],
   "source": [
    "# import pandas as pd\n",
    "# import numpy as np"
   ]
  },
  {
   "cell_type": "markdown",
   "metadata": {},
   "source": [
    "#### Carga cruda de datos en datagrama y generación de columnas adicionales"
   ]
  },
  {
   "cell_type": "code",
   "execution_count": null,
   "metadata": {},
   "outputs": [],
   "source": [
    "# Lectura del quote Cisco (unicamente)\n",
    "lcr_df = pd.DataFrame(pd.read_excel('quote.xlsx', skiprows=26,encoding='ISO-8859-1'))"
   ]
  },
  {
   "cell_type": "code",
   "execution_count": null,
   "metadata": {},
   "outputs": [],
   "source": [
    "# TBModify: Features para tomar nombre desde teclado\n",
    "u_vendor_contract = \"\" # Tomarlo de CABECERA_CONTRATO \"U_Provider\"\n",
    "u_ov = \"\" # Tomarlo de CABECERA_CONTRATO \"U_OV\" (lo incluimos por fuera del diseño original)\n",
    "u_status_vendor = \"\" # Tomarlo de CABECERA_CONTRATO \"U_StatusVendor\" (lo incluimos por fuera del diseño original)\n",
    "\n",
    "# Agregado de columnas faltantes\n",
    "lcr_df[\"LineNum\"] = lcr_df.index+1\n",
    "lcr_df[\"U_VendorContract\"] =  u_vendor_contract # Tomar feature de CABECERA_CONTRATO \"U_Provider\"\n",
    "lcr_df[\"U_OV\"] = u_ov # Tomar feature de CABECERA_CONTRATO \"U_OV\"\n",
    "lcr_df[\"U_StatusVendor\"] = u_status_vendor # Tomar feature de CABECERA_CONTRATO \"U_StatusVendor\"\n",
    "\n",
    "# Tamaño del datagrama\n",
    "lcr_df.shape"
   ]
  },
  {
   "cell_type": "markdown",
   "metadata": {},
   "source": [
    "#### Limpieza de datos y generación de datagrama definitivo"
   ]
  },
  {
   "cell_type": "code",
   "execution_count": null,
   "metadata": {},
   "outputs": [],
   "source": [
    "# Reemplazo de np.nan's por \" \"\n",
    "lcr_df.replace(np.nan,\"\",inplace=True)\n",
    "\n",
    "lcr_df.head(3)"
   ]
  },
  {
   "cell_type": "code",
   "execution_count": null,
   "metadata": {},
   "outputs": [],
   "source": [
    "# Generación de nombres de columnas\n",
    " # filtro_columnas: son las columnas requeridas del DF fuente\n",
    " # columnas_definitivas: son los nombres con los que deben llamarse en df_tarjeta_equipo\n",
    "filtro_columnas = [\"Parent Instance Number\", \"LineNum\", \"Product Number\", \"Product Description\", \"Instance Number\", \"PAK/Serial Number\", \"Start Date\",\"End Date\" ,\"U_StatusVendor\", \"Service Level Description\", \"U_OV\", \"End Customer Name\", \"U_VendorContract\"]\n",
    "lc_columnas_definitivas = [\"ParentKey\", \"LineNum\", \"itemCode\", \"itemName\", \"ManufSN\", \"InternalSN\", \"StartDate\", \"EndDate\", \"U_StatusVendor\", \"U_ServSKU\", \"U_OV\", \"U_EndCustomer\", \"U_VendorContract\"]"
   ]
  },
  {
   "cell_type": "code",
   "execution_count": null,
   "metadata": {},
   "outputs": [],
   "source": [
    "# Generación de DF tipo (df_tarjeta_equipo) con las columnas de interés\n",
    "lct_df = pd.DataFrame(lcr_df[filtro_columnas])\n",
    "\n",
    "# DF final con los nombres de columnas actualizados según \"columnas_definitivas\"\n",
    "lct_df.columns = lc_columnas_definitivas\n",
    "\n",
    "\n",
    "\n",
    "# Listado de ejemplo\n",
    "lct_df.head(3)"
   ]
  },
  {
   "cell_type": "code",
   "execution_count": null,
   "metadata": {},
   "outputs": [],
   "source": [
    "# Agregado de un segundo Header (Asi lo requiere SAP...). En este caso ambos Headers son idénticos\n",
    "lct_df.columns = pd.MultiIndex.from_tuples(\n",
    "    zip(columnas_definitivas, lct_df.columns))"
   ]
  },
  {
   "cell_type": "code",
   "execution_count": null,
   "metadata": {
    "scrolled": true
   },
   "outputs": [],
   "source": [
    "#### Generación de archivo de salida.txt\n",
    "\n",
    "# df_lineas_contrato.to_excel(\"2.test_lineas_contrato.xls\", index = False)\n",
    "lct_df.to_csv(\"2.test_lineas_contrato.csv\", index = False)"
   ]
  },
  {
   "cell_type": "code",
   "execution_count": null,
   "metadata": {},
   "outputs": [],
   "source": []
  },
  {
   "cell_type": "code",
   "execution_count": null,
   "metadata": {},
   "outputs": [],
   "source": []
  }
 ],
 "metadata": {
  "kernelspec": {
   "display_name": "Python 3",
   "language": "python",
   "name": "python3"
  },
  "language_info": {
   "codemirror_mode": {
    "name": "ipython",
    "version": 3
   },
   "file_extension": ".py",
   "mimetype": "text/x-python",
   "name": "python",
   "nbconvert_exporter": "python",
   "pygments_lexer": "ipython3",
   "version": "3.7.3"
  }
 },
 "nbformat": 4,
 "nbformat_minor": 2
}
