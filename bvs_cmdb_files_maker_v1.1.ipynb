{
 "cells": [
  {
   "cell_type": "markdown",
   "metadata": {},
   "source": [
    "# BVS CMDB Template Files Maker\n",
    "`VERSION: 1.1`: Incluye lectura de `CABECERA_CONTRATO`, estructura de directorios acorde a una app.\n",
    "## Indice\n",
    "> * `CABECERA_CONTRATO.txt`\n",
    "> * `TARJETA_EQUIPO.csv`\n",
    "> * `LINEAS_CONTRATO.csv`"
   ]
  },
  {
   "cell_type": "markdown",
   "metadata": {},
   "source": [
    "## CARGA DE LIBRERIAS"
   ]
  },
  {
   "cell_type": "code",
   "execution_count": 1,
   "metadata": {},
   "outputs": [],
   "source": [
    "import pandas as pd\n",
    "import numpy as np"
   ]
  },
  {
   "cell_type": "markdown",
   "metadata": {},
   "source": [
    "## FUNCIONES"
   ]
  },
  {
   "cell_type": "code",
   "execution_count": 2,
   "metadata": {},
   "outputs": [],
   "source": [
    "def add_columns_to_df(df, columna, dato):\n",
    "    '''Agrega columnas y su correspondiente dato de forma masiva dentro de un data frame'''\n",
    "    df[columna] = dato\n",
    "\n",
    "def add_index_to_df(df, columna):\n",
    "    '''Agrega una columna adicional de indice comenzando desde 1'''\n",
    "    df[columna] = df.index+1\n",
    "\n",
    "def column_filter(df, filtro):\n",
    "    '''Aplica filtro de columnas en un data frame'''\n",
    "    return pd.DataFrame(df[filtro])"
   ]
  },
  {
   "cell_type": "code",
   "execution_count": 3,
   "metadata": {},
   "outputs": [],
   "source": [
    "def column_names_update(df, col_definitivas):\n",
    "    '''Actualizacion de columnas con nombres definitivos. Requiere que el data frame se encuentre previamente ordenado y \n",
    "    con la cantidad de columnas correctas'''\n",
    "    df.columns = col_definitivas\n",
    "    return df"
   ]
  },
  {
   "cell_type": "code",
   "execution_count": 4,
   "metadata": {},
   "outputs": [],
   "source": [
    "def nan_cleaner(df):\n",
    "    '''Eliminación de NaN's'''\n",
    "    df.replace(np.nan, \"\", inplace=True)\n",
    "    return df"
   ]
  },
  {
   "cell_type": "code",
   "execution_count": 5,
   "metadata": {},
   "outputs": [],
   "source": [
    "def add_cabecera(df, col_cabecera):\n",
    "    df.columns = pd.MultiIndex.from_tuples(zip(col_cabecera, df.columns))\n",
    "    return df"
   ]
  },
  {
   "cell_type": "code",
   "execution_count": 6,
   "metadata": {},
   "outputs": [],
   "source": [
    "def add_column_format(df, col_filtro, col_cabecera, col_definitivas):\n",
    "    '''Funición para limpiar NaN's, renombrar columnas con la descripción final y agregado de cabecera adicional'''\n",
    "    df = column_filter(df, col_filtro) # Filtrado de columnas\n",
    "    df = column_names_update(df, col_definitivas) # Actualizacion de columnas con nombres definitivos\n",
    "    df = nan_cleaner(df)\n",
    "    df.columns = pd.MultiIndex.from_tuples(zip(col_cabecera, df.columns)) # Agregado de cabecera\n",
    "    print(\"MSG: Data-Frame listo para procesar en formato CSV\")\n",
    "    return df"
   ]
  },
  {
   "cell_type": "markdown",
   "metadata": {},
   "source": [
    "# 1. SCRIPT CODE\n",
    " - ccr_df (Cabecera Contrato Raw) --> bvs.cmdb.template_builder\n",
    " - ter_df (Tarjeta de Equipo Raw) --> quote, bvs.cmdb.template_builder\n",
    " - lcr_df (Lineas de Contrato Raw) --> ter_df, bvs.cmdb.template_builder"
   ]
  },
  {
   "cell_type": "markdown",
   "metadata": {},
   "source": [
    "### 1.1 PRE BUILDER CABECERA_CONTRATO\n",
    "   * ccr_df: cabecera contrato raw data-frame"
   ]
  },
  {
   "cell_type": "code",
   "execution_count": 7,
   "metadata": {},
   "outputs": [],
   "source": [
    "# Lectura del archivo CABECERA_CONTRATO previamente completado por el CMDB ADMIN.\n",
    "#ccr: cabecera_contrato_raw_df\n",
    "#ccr_df = pd.DataFrame(pd.read_excel('/cmdb.income.files/CABECERA_CONTRATO.xlsx', skiprows=1 ,encoding='ISO-8859-1')) #for macOS\n",
    "ccr_df = pd.DataFrame(pd.read_excel('./cmdb.income.files/bvs.cmdb.template_builder.xlsx', skiprows=1))\n",
    "# ccr_df = pd.DataFrame(pd.read_excel('CABECERA_CONTRATO_RAW.xlsx', skiprows=1 ,encoding='ISO-8859-1'))"
   ]
  },
  {
   "cell_type": "code",
   "execution_count": 8,
   "metadata": {},
   "outputs": [],
   "source": [
    "# Generación de nombres de columnas\n",
    " # cc_cabecera: es un requerimiento del SAP, se traduce como un DF con dos headers\n",
    "cc_cabecera = [\"ContractID\", \"CustomerCode\", \"Status\", \"ContractType\", \"Renewal\", \"StartDate\", \"EndDate\", \"Description\",\n",
    "            \"ServiceType\", \"U_ServType\", \"U_Provider\", \"U_ServiceName\"]\n",
    "cc_filtro_columnas = [\"ContractID\", \"CstmrCode\", \"Status\", \"CntrcType\", \"Renewal\", \"StartDate\", \"EndDate\", \"Descriptio\", \"SrvcType\", \"U_ServType\", \"U_Provider\", \"U_ServiceName\"]\n",
    "cc_columnas_definitivas = [\"ContractID\", \"CstmrCode\", \"Status\", \"CntrcType\", \"Renewal\", \"StartDate\", \"EndDate\", \"Descriptio\", \"SrvcType\", \"U_ServType\", \"U_Provider\", \"U_ServiceName\"]\n"
   ]
  },
  {
   "cell_type": "code",
   "execution_count": null,
   "metadata": {},
   "outputs": [],
   "source": []
  },
  {
   "cell_type": "code",
   "execution_count": 9,
   "metadata": {},
   "outputs": [
    {
     "data": {
      "text/html": [
       "<div>\n",
       "<style scoped>\n",
       "    .dataframe tbody tr th:only-of-type {\n",
       "        vertical-align: middle;\n",
       "    }\n",
       "\n",
       "    .dataframe tbody tr th {\n",
       "        vertical-align: top;\n",
       "    }\n",
       "\n",
       "    .dataframe thead th {\n",
       "        text-align: right;\n",
       "    }\n",
       "</style>\n",
       "<table border=\"1\" class=\"dataframe\">\n",
       "  <thead>\n",
       "    <tr style=\"text-align: right;\">\n",
       "      <th></th>\n",
       "      <th>ContractID</th>\n",
       "      <th>CstmrCode</th>\n",
       "      <th>Status</th>\n",
       "      <th>CntrcType</th>\n",
       "      <th>Renewal</th>\n",
       "      <th>StartDate</th>\n",
       "      <th>EndDate</th>\n",
       "      <th>Descriptio</th>\n",
       "      <th>SrvcType</th>\n",
       "      <th>U_ServType</th>\n",
       "      <th>U_Provider</th>\n",
       "      <th>U_ServiceName</th>\n",
       "      <th>U_OV</th>\n",
       "      <th>U_statusVendor</th>\n",
       "    </tr>\n",
       "  </thead>\n",
       "  <tbody>\n",
       "    <tr>\n",
       "      <th>0</th>\n",
       "      <td>0</td>\n",
       "      <td>C30500010084</td>\n",
       "      <td>scs_Approved</td>\n",
       "      <td>ct_SerialNumber</td>\n",
       "      <td>tNO</td>\n",
       "      <td>2021-12-01</td>\n",
       "      <td>2021-12-31</td>\n",
       "      <td>NaN</td>\n",
       "      <td>bst_Regular</td>\n",
       "      <td>NaN</td>\n",
       "      <td>CISCO</td>\n",
       "      <td>SMARTNET</td>\n",
       "      <td>u_ov_smartnet</td>\n",
       "      <td>u_status_cisco</td>\n",
       "    </tr>\n",
       "    <tr>\n",
       "      <th>1</th>\n",
       "      <td>1</td>\n",
       "      <td>C30500010084</td>\n",
       "      <td>scs_Approved</td>\n",
       "      <td>ct_SerialNumber</td>\n",
       "      <td>tNO</td>\n",
       "      <td>2021-12-01</td>\n",
       "      <td>2021-12-31</td>\n",
       "      <td>NaN</td>\n",
       "      <td>bst_Regular</td>\n",
       "      <td>NaN</td>\n",
       "      <td>BVS</td>\n",
       "      <td>BCARE</td>\n",
       "      <td>u_ov_bcare</td>\n",
       "      <td>u_status_bvs</td>\n",
       "    </tr>\n",
       "  </tbody>\n",
       "</table>\n",
       "</div>"
      ],
      "text/plain": [
       "   ContractID     CstmrCode        Status        CntrcType Renewal  StartDate  \\\n",
       "0           0  C30500010084  scs_Approved  ct_SerialNumber     tNO 2021-12-01   \n",
       "1           1  C30500010084  scs_Approved  ct_SerialNumber     tNO 2021-12-01   \n",
       "\n",
       "     EndDate  Descriptio     SrvcType  U_ServType U_Provider U_ServiceName  \\\n",
       "0 2021-12-31         NaN  bst_Regular         NaN      CISCO      SMARTNET   \n",
       "1 2021-12-31         NaN  bst_Regular         NaN        BVS         BCARE   \n",
       "\n",
       "            U_OV  U_statusVendor  \n",
       "0  u_ov_smartnet  u_status_cisco  \n",
       "1     u_ov_bcare    u_status_bvs  "
      ]
     },
     "execution_count": 9,
     "metadata": {},
     "output_type": "execute_result"
    }
   ],
   "source": [
    "ccr_df.sample(2)"
   ]
  },
  {
   "cell_type": "markdown",
   "metadata": {},
   "source": [
    "#### 1.1.1 FORMATEO Y LIMPEZA DE DATOS"
   ]
  },
  {
   "cell_type": "code",
   "execution_count": 10,
   "metadata": {},
   "outputs": [],
   "source": [
    "ccr_total_df = ccr_df.copy()"
   ]
  },
  {
   "cell_type": "code",
   "execution_count": 11,
   "metadata": {},
   "outputs": [
    {
     "name": "stdout",
     "output_type": "stream",
     "text": [
      "MSG: Data-Frame listo para procesar en formato CSV\n"
     ]
    }
   ],
   "source": [
    "ccr_total_df = add_column_format(ccr_total_df, cc_filtro_columnas, cc_cabecera, cc_columnas_definitivas)"
   ]
  },
  {
   "cell_type": "code",
   "execution_count": 12,
   "metadata": {},
   "outputs": [
    {
     "data": {
      "text/html": [
       "<div>\n",
       "<style scoped>\n",
       "    .dataframe tbody tr th:only-of-type {\n",
       "        vertical-align: middle;\n",
       "    }\n",
       "\n",
       "    .dataframe tbody tr th {\n",
       "        vertical-align: top;\n",
       "    }\n",
       "\n",
       "    .dataframe thead tr th {\n",
       "        text-align: left;\n",
       "    }\n",
       "</style>\n",
       "<table border=\"1\" class=\"dataframe\">\n",
       "  <thead>\n",
       "    <tr>\n",
       "      <th></th>\n",
       "      <th>ContractID</th>\n",
       "      <th>CustomerCode</th>\n",
       "      <th>Status</th>\n",
       "      <th>ContractType</th>\n",
       "      <th>Renewal</th>\n",
       "      <th>StartDate</th>\n",
       "      <th>EndDate</th>\n",
       "      <th>Description</th>\n",
       "      <th>ServiceType</th>\n",
       "      <th>U_ServType</th>\n",
       "      <th>U_Provider</th>\n",
       "      <th>U_ServiceName</th>\n",
       "    </tr>\n",
       "    <tr>\n",
       "      <th></th>\n",
       "      <th>ContractID</th>\n",
       "      <th>CstmrCode</th>\n",
       "      <th>Status</th>\n",
       "      <th>CntrcType</th>\n",
       "      <th>Renewal</th>\n",
       "      <th>StartDate</th>\n",
       "      <th>EndDate</th>\n",
       "      <th>Descriptio</th>\n",
       "      <th>SrvcType</th>\n",
       "      <th>U_ServType</th>\n",
       "      <th>U_Provider</th>\n",
       "      <th>U_ServiceName</th>\n",
       "    </tr>\n",
       "  </thead>\n",
       "  <tbody>\n",
       "    <tr>\n",
       "      <th>0</th>\n",
       "      <td>0</td>\n",
       "      <td>C30500010084</td>\n",
       "      <td>scs_Approved</td>\n",
       "      <td>ct_SerialNumber</td>\n",
       "      <td>tNO</td>\n",
       "      <td>2021-12-01</td>\n",
       "      <td>2021-12-31</td>\n",
       "      <td></td>\n",
       "      <td>bst_Regular</td>\n",
       "      <td></td>\n",
       "      <td>CISCO</td>\n",
       "      <td>SMARTNET</td>\n",
       "    </tr>\n",
       "    <tr>\n",
       "      <th>1</th>\n",
       "      <td>1</td>\n",
       "      <td>C30500010084</td>\n",
       "      <td>scs_Approved</td>\n",
       "      <td>ct_SerialNumber</td>\n",
       "      <td>tNO</td>\n",
       "      <td>2021-12-01</td>\n",
       "      <td>2021-12-31</td>\n",
       "      <td></td>\n",
       "      <td>bst_Regular</td>\n",
       "      <td></td>\n",
       "      <td>BVS</td>\n",
       "      <td>BCARE</td>\n",
       "    </tr>\n",
       "  </tbody>\n",
       "</table>\n",
       "</div>"
      ],
      "text/plain": [
       "  ContractID  CustomerCode        Status     ContractType Renewal  StartDate  \\\n",
       "  ContractID     CstmrCode        Status        CntrcType Renewal  StartDate   \n",
       "0          0  C30500010084  scs_Approved  ct_SerialNumber     tNO 2021-12-01   \n",
       "1          1  C30500010084  scs_Approved  ct_SerialNumber     tNO 2021-12-01   \n",
       "\n",
       "     EndDate Description  ServiceType U_ServType U_Provider U_ServiceName  \n",
       "     EndDate  Descriptio     SrvcType U_ServType U_Provider U_ServiceName  \n",
       "0 2021-12-31              bst_Regular                 CISCO      SMARTNET  \n",
       "1 2021-12-31              bst_Regular                   BVS         BCARE  "
      ]
     },
     "execution_count": 12,
     "metadata": {},
     "output_type": "execute_result"
    }
   ],
   "source": [
    "ccr_total_df"
   ]
  },
  {
   "cell_type": "markdown",
   "metadata": {},
   "source": [
    "#### 1.1.2 CREACION DE CSV"
   ]
  },
  {
   "cell_type": "code",
   "execution_count": 13,
   "metadata": {},
   "outputs": [],
   "source": [
    "# Salida en formato csv\n",
    "ccr_total_df.to_csv(\"./cmdb.templates.ok/1.test_CABECERA_CONTRATO.csv\", index = False)"
   ]
  },
  {
   "cell_type": "markdown",
   "metadata": {},
   "source": [
    "### 1.2 PRE BUILDER TARJETA_EQUIPO\n",
    " - ter_df: (Tarjeta Equipo Raw) --> quote, bvs.cmdb.template_builder\n",
    "\n",
    "NOTA: Un DF de esta tarjeta se utiliza para replicarlo por `ContractID` definido en CABECERA_CONTRATO"
   ]
  },
  {
   "cell_type": "markdown",
   "metadata": {},
   "source": [
    "#### 1.2.1 LECTURA DE ARCHIVO FUENTE"
   ]
  },
  {
   "cell_type": "code",
   "execution_count": 14,
   "metadata": {},
   "outputs": [],
   "source": [
    "# Lectura del quote Cisco (unicamente). Se descartan las 27 primeras líneas del header (\"skiprows\").\n",
    "# ter_df = pd.DataFrame(pd.read_excel('quote.xlsx', skiprows=26,encoding='ISO-8859-1')) for macOS\n",
    "#ter_df = pd.DataFrame(pd.read_excel('./cmdb.income.files/quote.xlsx', converters= {'Last Date of Support': pd.to_datetime}, skiprows=26))\n",
    "quote_df = pd.DataFrame(pd.read_excel('./cmdb.income.files/quote.xlsx', converters= {'Last Date of Support': pd.to_datetime}, skiprows=26))\n",
    "#df1 = pd.read_excel(file, converters= {'Last Date of Support': pd.to_datetime})"
   ]
  },
  {
   "cell_type": "code",
   "execution_count": 15,
   "metadata": {},
   "outputs": [],
   "source": [
    "# Copia del quote así lo reutilizamos para construit la tarjeta equipo\n",
    "ter_df = quote_df.copy()"
   ]
  },
  {
   "cell_type": "markdown",
   "metadata": {},
   "source": [
    "#### 1.2.2 CREACIÓN DE FILTROS Y COLUMNAS"
   ]
  },
  {
   "cell_type": "code",
   "execution_count": 16,
   "metadata": {},
   "outputs": [],
   "source": [
    "#TODO: TRATAR DE INCLUIR EOS EN SAP *** HABLARLO CON LUCAS ***\n",
    "\n",
    "# Generación de nombres de columnas\n",
    "# filtro_columnas: son las columnas que nos interesan del DF fuente y se utilizarán para filtrar el mismo DF\n",
    "# columnas_definitivas: son los nombres con los que deben llamarse en df_tarjeta_equipo\n",
    "# cabecera: es un requerimiento del SAP, se traduce como un DF con dos headers\n",
    "\n",
    "te_filtro_columnas = [\"insID\", \"customer\", \"Instance Number\", \"PAK/Serial Number\", \"Product Number\", \"Product Description\", \"End Customer Address Line 1\",\"End Customer Zip/Postal Code\" ,\"End Customer City\", \"End Customer Country\", \"status\"]\n",
    "te_columnas_definitivas = [\"insID\",\"customer\", \"manufSN\", \"internalSN\", \"itemCode\", \"itemName\", \"street\", \"zip\", \"city\", \"county\", \"status\"]\n",
    "te_cabecera = [\"EquipmentCardNum\", \"CustomerCode\", \"ManufacturerSerialNum\", \"InternalSerialNum\", \"ItemCode\", \"ItemDescription\",\"Street\", \"ZipCode\", \"City\", \"County\", \"StatusOfSerialNumber\"]"
   ]
  },
  {
   "cell_type": "markdown",
   "metadata": {},
   "source": [
    "#### 1.2.3 AGREGADO DE COLUMNAS"
   ]
  },
  {
   "cell_type": "code",
   "execution_count": 17,
   "metadata": {},
   "outputs": [],
   "source": [
    "# Agregado de features faltantes y precargado de valores iniciales. Este data-gframe se utilizará como template para completar tarjeta de equipo\n",
    "\n",
    "# Lectura de variables provistas en ccr_df que luego se utilizan para precargar el template ter_df\n",
    "customer = ccr_df.loc[0,\"CstmrCode\"]\n",
    "status = ccr_df.loc[0,\"Status\"]\n",
    "\n",
    "# Precarga de valores leidos previamente\n",
    "add_index_to_df(ter_df,\"insID\")\n",
    "add_columns_to_df(ter_df,\"customer\", customer)\n",
    "add_columns_to_df(ter_df,\"status\", status)"
   ]
  },
  {
   "cell_type": "code",
   "execution_count": 18,
   "metadata": {
    "scrolled": true
   },
   "outputs": [
    {
     "data": {
      "text/html": [
       "<div>\n",
       "<style scoped>\n",
       "    .dataframe tbody tr th:only-of-type {\n",
       "        vertical-align: middle;\n",
       "    }\n",
       "\n",
       "    .dataframe tbody tr th {\n",
       "        vertical-align: top;\n",
       "    }\n",
       "\n",
       "    .dataframe thead th {\n",
       "        text-align: right;\n",
       "    }\n",
       "</style>\n",
       "<table border=\"1\" class=\"dataframe\">\n",
       "  <thead>\n",
       "    <tr style=\"text-align: right;\">\n",
       "      <th></th>\n",
       "      <th>Product Number</th>\n",
       "      <th>Product Description</th>\n",
       "      <th>Last Date of Support</th>\n",
       "      <th>PAK/Serial Number</th>\n",
       "      <th>Instance Number</th>\n",
       "      <th>Major/Minor</th>\n",
       "      <th>Parent Instance Number</th>\n",
       "      <th>Line Type</th>\n",
       "      <th>Host ID/Mac ID</th>\n",
       "      <th>Service Level</th>\n",
       "      <th>...</th>\n",
       "      <th>Smart Account / Virtual Account</th>\n",
       "      <th>Initial Term (Months)</th>\n",
       "      <th>Billing Frequency</th>\n",
       "      <th>Automatically Renews For</th>\n",
       "      <th>Subscription ID</th>\n",
       "      <th>Reference Serial Number</th>\n",
       "      <th>Reference Instance Number</th>\n",
       "      <th>insID</th>\n",
       "      <th>customer</th>\n",
       "      <th>status</th>\n",
       "    </tr>\n",
       "  </thead>\n",
       "  <tbody>\n",
       "    <tr>\n",
       "      <th>0</th>\n",
       "      <td>AIR-CT5508-50-K9</td>\n",
       "      <td>^5508 Series Controller for up to 50 APs</td>\n",
       "      <td>2023-07-31</td>\n",
       "      <td>FCW1728L01U</td>\n",
       "      <td>1526561268</td>\n",
       "      <td>Major</td>\n",
       "      <td>1526561268</td>\n",
       "      <td>NEW</td>\n",
       "      <td>NaN</td>\n",
       "      <td>SNT</td>\n",
       "      <td>...</td>\n",
       "      <td>CABLEVISION S.A.-DEFAULT</td>\n",
       "      <td>NaN</td>\n",
       "      <td>NaN</td>\n",
       "      <td>NaN</td>\n",
       "      <td>NaN</td>\n",
       "      <td>NaN</td>\n",
       "      <td>NaN</td>\n",
       "      <td>1</td>\n",
       "      <td>C30500010084</td>\n",
       "      <td>scs_Approved</td>\n",
       "    </tr>\n",
       "    <tr>\n",
       "      <th>1</th>\n",
       "      <td>PI-MSE-PRMO-INSRT</td>\n",
       "      <td>Insert, Packout - PI-MSE</td>\n",
       "      <td>NaT</td>\n",
       "      <td>NaN</td>\n",
       "      <td>1526561310</td>\n",
       "      <td>Minor</td>\n",
       "      <td>1526561268</td>\n",
       "      <td>NEW</td>\n",
       "      <td>NaN</td>\n",
       "      <td>SNT</td>\n",
       "      <td>...</td>\n",
       "      <td>CABLEVISION S.A.-DEFAULT</td>\n",
       "      <td>NaN</td>\n",
       "      <td>NaN</td>\n",
       "      <td>NaN</td>\n",
       "      <td>NaN</td>\n",
       "      <td>NaN</td>\n",
       "      <td>NaN</td>\n",
       "      <td>2</td>\n",
       "      <td>C30500010084</td>\n",
       "      <td>scs_Approved</td>\n",
       "    </tr>\n",
       "  </tbody>\n",
       "</table>\n",
       "<p>2 rows × 68 columns</p>\n",
       "</div>"
      ],
      "text/plain": [
       "      Product Number                       Product Description  \\\n",
       "0   AIR-CT5508-50-K9  ^5508 Series Controller for up to 50 APs   \n",
       "1  PI-MSE-PRMO-INSRT                  Insert, Packout - PI-MSE   \n",
       "\n",
       "  Last Date of Support PAK/Serial Number  Instance Number Major/Minor  \\\n",
       "0           2023-07-31       FCW1728L01U       1526561268       Major   \n",
       "1                  NaT               NaN       1526561310       Minor   \n",
       "\n",
       "   Parent Instance Number Line Type Host ID/Mac ID Service Level  ...  \\\n",
       "0              1526561268       NEW            NaN           SNT  ...   \n",
       "1              1526561268       NEW            NaN           SNT  ...   \n",
       "\n",
       "  Smart Account / Virtual Account Initial Term (Months) Billing Frequency  \\\n",
       "0        CABLEVISION S.A.-DEFAULT                   NaN               NaN   \n",
       "1        CABLEVISION S.A.-DEFAULT                   NaN               NaN   \n",
       "\n",
       "  Automatically Renews For  Subscription ID Reference Serial Number  \\\n",
       "0                      NaN              NaN                     NaN   \n",
       "1                      NaN              NaN                     NaN   \n",
       "\n",
       "  Reference Instance Number insID      customer        status  \n",
       "0                       NaN     1  C30500010084  scs_Approved  \n",
       "1                       NaN     2  C30500010084  scs_Approved  \n",
       "\n",
       "[2 rows x 68 columns]"
      ]
     },
     "execution_count": 18,
     "metadata": {},
     "output_type": "execute_result"
    }
   ],
   "source": [
    "ter_df.head(2)"
   ]
  },
  {
   "cell_type": "markdown",
   "metadata": {},
   "source": [
    "#### 1.2.4 FORMATEO Y LIMPEZA DE DATOS"
   ]
  },
  {
   "cell_type": "code",
   "execution_count": 19,
   "metadata": {},
   "outputs": [
    {
     "name": "stdout",
     "output_type": "stream",
     "text": [
      "MSG: Data-Frame listo para procesar en formato CSV\n"
     ]
    }
   ],
   "source": [
    "ter_df = add_column_format(ter_df, te_filtro_columnas, te_cabecera, te_columnas_definitivas)"
   ]
  },
  {
   "cell_type": "code",
   "execution_count": 20,
   "metadata": {},
   "outputs": [
    {
     "data": {
      "text/html": [
       "<div>\n",
       "<style scoped>\n",
       "    .dataframe tbody tr th:only-of-type {\n",
       "        vertical-align: middle;\n",
       "    }\n",
       "\n",
       "    .dataframe tbody tr th {\n",
       "        vertical-align: top;\n",
       "    }\n",
       "\n",
       "    .dataframe thead tr th {\n",
       "        text-align: left;\n",
       "    }\n",
       "</style>\n",
       "<table border=\"1\" class=\"dataframe\">\n",
       "  <thead>\n",
       "    <tr>\n",
       "      <th></th>\n",
       "      <th>EquipmentCardNum</th>\n",
       "      <th>CustomerCode</th>\n",
       "      <th>ManufacturerSerialNum</th>\n",
       "      <th>InternalSerialNum</th>\n",
       "      <th>ItemCode</th>\n",
       "      <th>ItemDescription</th>\n",
       "      <th>Street</th>\n",
       "      <th>ZipCode</th>\n",
       "      <th>City</th>\n",
       "      <th>County</th>\n",
       "      <th>StatusOfSerialNumber</th>\n",
       "    </tr>\n",
       "    <tr>\n",
       "      <th></th>\n",
       "      <th>insID</th>\n",
       "      <th>customer</th>\n",
       "      <th>manufSN</th>\n",
       "      <th>internalSN</th>\n",
       "      <th>itemCode</th>\n",
       "      <th>itemName</th>\n",
       "      <th>street</th>\n",
       "      <th>zip</th>\n",
       "      <th>city</th>\n",
       "      <th>county</th>\n",
       "      <th>status</th>\n",
       "    </tr>\n",
       "  </thead>\n",
       "  <tbody>\n",
       "    <tr>\n",
       "      <th>0</th>\n",
       "      <td>1</td>\n",
       "      <td>C30500010084</td>\n",
       "      <td>1526561268</td>\n",
       "      <td>FCW1728L01U</td>\n",
       "      <td>AIR-CT5508-50-K9</td>\n",
       "      <td>^5508 Series Controller for up to 50 APs</td>\n",
       "      <td>GRAL HORNOS 690</td>\n",
       "      <td>1272</td>\n",
       "      <td>BUENOS AIRES</td>\n",
       "      <td>AR</td>\n",
       "      <td>scs_Approved</td>\n",
       "    </tr>\n",
       "    <tr>\n",
       "      <th>1</th>\n",
       "      <td>2</td>\n",
       "      <td>C30500010084</td>\n",
       "      <td>1526561310</td>\n",
       "      <td></td>\n",
       "      <td>PI-MSE-PRMO-INSRT</td>\n",
       "      <td>Insert, Packout - PI-MSE</td>\n",
       "      <td>GRAL HORNOS 690</td>\n",
       "      <td>1272</td>\n",
       "      <td>BUENOS AIRES</td>\n",
       "      <td>AR</td>\n",
       "      <td>scs_Approved</td>\n",
       "    </tr>\n",
       "  </tbody>\n",
       "</table>\n",
       "</div>"
      ],
      "text/plain": [
       "  EquipmentCardNum  CustomerCode ManufacturerSerialNum InternalSerialNum  \\\n",
       "             insID      customer               manufSN        internalSN   \n",
       "0                1  C30500010084            1526561268       FCW1728L01U   \n",
       "1                2  C30500010084            1526561310                     \n",
       "\n",
       "            ItemCode                           ItemDescription  \\\n",
       "            itemCode                                  itemName   \n",
       "0   AIR-CT5508-50-K9  ^5508 Series Controller for up to 50 APs   \n",
       "1  PI-MSE-PRMO-INSRT                  Insert, Packout - PI-MSE   \n",
       "\n",
       "            Street ZipCode          City County StatusOfSerialNumber  \n",
       "            street     zip          city county               status  \n",
       "0  GRAL HORNOS 690    1272  BUENOS AIRES     AR         scs_Approved  \n",
       "1  GRAL HORNOS 690    1272  BUENOS AIRES     AR         scs_Approved  "
      ]
     },
     "execution_count": 20,
     "metadata": {},
     "output_type": "execute_result"
    }
   ],
   "source": [
    "ter_df.head(2)"
   ]
  },
  {
   "cell_type": "markdown",
   "metadata": {},
   "source": [
    "#### 1.2.5 CREACION DE CSV"
   ]
  },
  {
   "cell_type": "code",
   "execution_count": 21,
   "metadata": {},
   "outputs": [],
   "source": [
    "# Salida en formato csv\n",
    "ter_df.to_csv(\"./cmdb.templates.ok/1.test_TARJETA_EQUIPO.csv\", index = False)"
   ]
  },
  {
   "cell_type": "markdown",
   "metadata": {},
   "source": [
    "### 1.3 PRE BUILDER LINEAS_CONTRATO\n",
    " - lcr_df (Lineas de Contrato Raw) --> ter_df, bvs.cmdb.template_builder"
   ]
  },
  {
   "cell_type": "markdown",
   "metadata": {},
   "source": [
    "#### 1.3.1 LECTURA DE ARCHIVO FUENTE"
   ]
  },
  {
   "cell_type": "code",
   "execution_count": 22,
   "metadata": {},
   "outputs": [],
   "source": [
    "# lcr_df es un df que se utilizará como \"base\" para la confección del total de las lineas de contrato\n",
    "lcr_df = quote_df.copy()"
   ]
  },
  {
   "cell_type": "code",
   "execution_count": 23,
   "metadata": {},
   "outputs": [],
   "source": [
    "ter_total_df = ter_df.copy()"
   ]
  },
  {
   "cell_type": "markdown",
   "metadata": {},
   "source": [
    "#### 1.3.2 CREACIÓN DE FILTROS Y COLUMNAS"
   ]
  },
  {
   "cell_type": "code",
   "execution_count": 24,
   "metadata": {},
   "outputs": [],
   "source": [
    "# Generación de nombres de columnas\n",
    "# filtro_columnas: son las columnas requeridas del DF fuente\n",
    "# columnas_definitivas: son los nombres con los que deben llamarse en df_tarjeta_equipo\n",
    "\n",
    "\n",
    "lc_cabecera = [\"ParentKey\", \"LineNum\", \"ItemCode\", \"ItemName\", \"ManufSN\", \"InternalSN\", \"StartDate\", \"EndDate\", \"U_StatusVendor\", \"U_ServSKU\", \"U_OV\", \"U_EndCustomer\", \"U_VendorContract\"]\n",
    "lc_filtro_columnas = [\"ParentKey\", \"LineNum\", \"Product Number\", \"Product Description\", \"Instance Number\", \"PAK/Serial Number\", \"Start Date\",\"End Date\" ,\"U_StatusVendor\", \"Service Level Description\", \"U_OV\", \"End Customer Name\", \"U_VendorContract\"]\n",
    "lc_columnas_definitivas = [\"ParentKey\", \"LineNum\", \"itemCode\", \"itemName\", \"ManufSN\", \"InternalSN\", \"StartDate\", \"EndDate\", \"U_StatusVendor\", \"U_ServSKU\", \"U_OV\", \"U_EndCustomer\", \"U_VendorContract\"]"
   ]
  },
  {
   "cell_type": "markdown",
   "metadata": {},
   "source": [
    "#### 1.3.3 AGREGADO DE COLUMNAS"
   ]
  },
  {
   "cell_type": "code",
   "execution_count": 25,
   "metadata": {},
   "outputs": [
    {
     "data": {
      "text/html": [
       "<div>\n",
       "<style scoped>\n",
       "    .dataframe tbody tr th:only-of-type {\n",
       "        vertical-align: middle;\n",
       "    }\n",
       "\n",
       "    .dataframe tbody tr th {\n",
       "        vertical-align: top;\n",
       "    }\n",
       "\n",
       "    .dataframe thead th {\n",
       "        text-align: right;\n",
       "    }\n",
       "</style>\n",
       "<table border=\"1\" class=\"dataframe\">\n",
       "  <thead>\n",
       "    <tr style=\"text-align: right;\">\n",
       "      <th></th>\n",
       "      <th>Product Number</th>\n",
       "      <th>Product Description</th>\n",
       "      <th>Last Date of Support</th>\n",
       "      <th>PAK/Serial Number</th>\n",
       "      <th>Instance Number</th>\n",
       "      <th>Major/Minor</th>\n",
       "      <th>Parent Instance Number</th>\n",
       "      <th>Line Type</th>\n",
       "      <th>Host ID/Mac ID</th>\n",
       "      <th>Service Level</th>\n",
       "      <th>...</th>\n",
       "      <th>Product List Price</th>\n",
       "      <th>Service List Factor</th>\n",
       "      <th>Product Family</th>\n",
       "      <th>Smart Account / Virtual Account</th>\n",
       "      <th>Initial Term (Months)</th>\n",
       "      <th>Billing Frequency</th>\n",
       "      <th>Automatically Renews For</th>\n",
       "      <th>Subscription ID</th>\n",
       "      <th>Reference Serial Number</th>\n",
       "      <th>Reference Instance Number</th>\n",
       "    </tr>\n",
       "  </thead>\n",
       "  <tbody>\n",
       "    <tr>\n",
       "      <th>0</th>\n",
       "      <td>AIR-CT5508-50-K9</td>\n",
       "      <td>^5508 Series Controller for up to 50 APs</td>\n",
       "      <td>2023-07-31</td>\n",
       "      <td>FCW1728L01U</td>\n",
       "      <td>1526561268</td>\n",
       "      <td>Major</td>\n",
       "      <td>1526561268</td>\n",
       "      <td>NEW</td>\n",
       "      <td>NaN</td>\n",
       "      <td>SNT</td>\n",
       "      <td>...</td>\n",
       "      <td>0</td>\n",
       "      <td>NaN</td>\n",
       "      <td>AIRCTI</td>\n",
       "      <td>CABLEVISION S.A.-DEFAULT</td>\n",
       "      <td>NaN</td>\n",
       "      <td>NaN</td>\n",
       "      <td>NaN</td>\n",
       "      <td>NaN</td>\n",
       "      <td>NaN</td>\n",
       "      <td>NaN</td>\n",
       "    </tr>\n",
       "    <tr>\n",
       "      <th>1</th>\n",
       "      <td>PI-MSE-PRMO-INSRT</td>\n",
       "      <td>Insert, Packout - PI-MSE</td>\n",
       "      <td>NaT</td>\n",
       "      <td>NaN</td>\n",
       "      <td>1526561310</td>\n",
       "      <td>Minor</td>\n",
       "      <td>1526561268</td>\n",
       "      <td>NEW</td>\n",
       "      <td>NaN</td>\n",
       "      <td>SNT</td>\n",
       "      <td>...</td>\n",
       "      <td>0</td>\n",
       "      <td>NaN</td>\n",
       "      <td>AIR</td>\n",
       "      <td>CABLEVISION S.A.-DEFAULT</td>\n",
       "      <td>NaN</td>\n",
       "      <td>NaN</td>\n",
       "      <td>NaN</td>\n",
       "      <td>NaN</td>\n",
       "      <td>NaN</td>\n",
       "      <td>NaN</td>\n",
       "    </tr>\n",
       "  </tbody>\n",
       "</table>\n",
       "<p>2 rows × 65 columns</p>\n",
       "</div>"
      ],
      "text/plain": [
       "      Product Number                       Product Description  \\\n",
       "0   AIR-CT5508-50-K9  ^5508 Series Controller for up to 50 APs   \n",
       "1  PI-MSE-PRMO-INSRT                  Insert, Packout - PI-MSE   \n",
       "\n",
       "  Last Date of Support PAK/Serial Number  Instance Number Major/Minor  \\\n",
       "0           2023-07-31       FCW1728L01U       1526561268       Major   \n",
       "1                  NaT               NaN       1526561310       Minor   \n",
       "\n",
       "   Parent Instance Number Line Type Host ID/Mac ID Service Level  ...  \\\n",
       "0              1526561268       NEW            NaN           SNT  ...   \n",
       "1              1526561268       NEW            NaN           SNT  ...   \n",
       "\n",
       "  Product List Price Service List Factor Product Family  \\\n",
       "0                  0                 NaN         AIRCTI   \n",
       "1                  0                 NaN            AIR   \n",
       "\n",
       "  Smart Account / Virtual Account  Initial Term (Months) Billing Frequency  \\\n",
       "0        CABLEVISION S.A.-DEFAULT                    NaN               NaN   \n",
       "1        CABLEVISION S.A.-DEFAULT                    NaN               NaN   \n",
       "\n",
       "  Automatically Renews For Subscription ID  Reference Serial Number  \\\n",
       "0                      NaN             NaN                      NaN   \n",
       "1                      NaN             NaN                      NaN   \n",
       "\n",
       "   Reference Instance Number  \n",
       "0                        NaN  \n",
       "1                        NaN  \n",
       "\n",
       "[2 rows x 65 columns]"
      ]
     },
     "execution_count": 25,
     "metadata": {},
     "output_type": "execute_result"
    }
   ],
   "source": [
    "lcr_df.head(2)"
   ]
  },
  {
   "cell_type": "code",
   "execution_count": 26,
   "metadata": {},
   "outputs": [],
   "source": [
    "# Agregado de features faltantes y precargado de valores iniciales NaN´s.\n",
    "\n",
    "add_index_to_df(lcr_df,\"LineNum\")\n",
    "add_columns_to_df(lcr_df,\"ParentKey\", np.nan)\n",
    "add_columns_to_df(lcr_df,\"U_VendorContract\", np.nan)\n",
    "add_columns_to_df(lcr_df,\"U_StatusVendor\", np.nan)\n",
    "add_columns_to_df(lcr_df,\"U_OV\", np.nan)"
   ]
  },
  {
   "cell_type": "code",
   "execution_count": 27,
   "metadata": {},
   "outputs": [
    {
     "data": {
      "text/html": [
       "<div>\n",
       "<style scoped>\n",
       "    .dataframe tbody tr th:only-of-type {\n",
       "        vertical-align: middle;\n",
       "    }\n",
       "\n",
       "    .dataframe tbody tr th {\n",
       "        vertical-align: top;\n",
       "    }\n",
       "\n",
       "    .dataframe thead th {\n",
       "        text-align: right;\n",
       "    }\n",
       "</style>\n",
       "<table border=\"1\" class=\"dataframe\">\n",
       "  <thead>\n",
       "    <tr style=\"text-align: right;\">\n",
       "      <th></th>\n",
       "      <th>Product Number</th>\n",
       "      <th>Product Description</th>\n",
       "      <th>Last Date of Support</th>\n",
       "      <th>PAK/Serial Number</th>\n",
       "      <th>Instance Number</th>\n",
       "      <th>Major/Minor</th>\n",
       "      <th>Parent Instance Number</th>\n",
       "      <th>Line Type</th>\n",
       "      <th>Host ID/Mac ID</th>\n",
       "      <th>Service Level</th>\n",
       "      <th>...</th>\n",
       "      <th>Billing Frequency</th>\n",
       "      <th>Automatically Renews For</th>\n",
       "      <th>Subscription ID</th>\n",
       "      <th>Reference Serial Number</th>\n",
       "      <th>Reference Instance Number</th>\n",
       "      <th>LineNum</th>\n",
       "      <th>ParentKey</th>\n",
       "      <th>U_VendorContract</th>\n",
       "      <th>U_StatusVendor</th>\n",
       "      <th>U_OV</th>\n",
       "    </tr>\n",
       "  </thead>\n",
       "  <tbody>\n",
       "    <tr>\n",
       "      <th>0</th>\n",
       "      <td>AIR-CT5508-50-K9</td>\n",
       "      <td>^5508 Series Controller for up to 50 APs</td>\n",
       "      <td>2023-07-31</td>\n",
       "      <td>FCW1728L01U</td>\n",
       "      <td>1526561268</td>\n",
       "      <td>Major</td>\n",
       "      <td>1526561268</td>\n",
       "      <td>NEW</td>\n",
       "      <td>NaN</td>\n",
       "      <td>SNT</td>\n",
       "      <td>...</td>\n",
       "      <td>NaN</td>\n",
       "      <td>NaN</td>\n",
       "      <td>NaN</td>\n",
       "      <td>NaN</td>\n",
       "      <td>NaN</td>\n",
       "      <td>1</td>\n",
       "      <td>NaN</td>\n",
       "      <td>NaN</td>\n",
       "      <td>NaN</td>\n",
       "      <td>NaN</td>\n",
       "    </tr>\n",
       "    <tr>\n",
       "      <th>1</th>\n",
       "      <td>PI-MSE-PRMO-INSRT</td>\n",
       "      <td>Insert, Packout - PI-MSE</td>\n",
       "      <td>NaT</td>\n",
       "      <td>NaN</td>\n",
       "      <td>1526561310</td>\n",
       "      <td>Minor</td>\n",
       "      <td>1526561268</td>\n",
       "      <td>NEW</td>\n",
       "      <td>NaN</td>\n",
       "      <td>SNT</td>\n",
       "      <td>...</td>\n",
       "      <td>NaN</td>\n",
       "      <td>NaN</td>\n",
       "      <td>NaN</td>\n",
       "      <td>NaN</td>\n",
       "      <td>NaN</td>\n",
       "      <td>2</td>\n",
       "      <td>NaN</td>\n",
       "      <td>NaN</td>\n",
       "      <td>NaN</td>\n",
       "      <td>NaN</td>\n",
       "    </tr>\n",
       "  </tbody>\n",
       "</table>\n",
       "<p>2 rows × 70 columns</p>\n",
       "</div>"
      ],
      "text/plain": [
       "      Product Number                       Product Description  \\\n",
       "0   AIR-CT5508-50-K9  ^5508 Series Controller for up to 50 APs   \n",
       "1  PI-MSE-PRMO-INSRT                  Insert, Packout - PI-MSE   \n",
       "\n",
       "  Last Date of Support PAK/Serial Number  Instance Number Major/Minor  \\\n",
       "0           2023-07-31       FCW1728L01U       1526561268       Major   \n",
       "1                  NaT               NaN       1526561310       Minor   \n",
       "\n",
       "   Parent Instance Number Line Type Host ID/Mac ID Service Level  ...  \\\n",
       "0              1526561268       NEW            NaN           SNT  ...   \n",
       "1              1526561268       NEW            NaN           SNT  ...   \n",
       "\n",
       "  Billing Frequency Automatically Renews For Subscription ID  \\\n",
       "0               NaN                      NaN             NaN   \n",
       "1               NaN                      NaN             NaN   \n",
       "\n",
       "  Reference Serial Number  Reference Instance Number LineNum ParentKey  \\\n",
       "0                     NaN                        NaN       1       NaN   \n",
       "1                     NaN                        NaN       2       NaN   \n",
       "\n",
       "  U_VendorContract  U_StatusVendor  U_OV  \n",
       "0              NaN             NaN   NaN  \n",
       "1              NaN             NaN   NaN  \n",
       "\n",
       "[2 rows x 70 columns]"
      ]
     },
     "execution_count": 27,
     "metadata": {},
     "output_type": "execute_result"
    }
   ],
   "source": [
    "lcr_df.head(2)"
   ]
  },
  {
   "cell_type": "markdown",
   "metadata": {},
   "source": [
    "#### 1.3.4 FORMATEO Y LIMPEZA DE DATOS DE DF BASE"
   ]
  },
  {
   "cell_type": "code",
   "execution_count": 28,
   "metadata": {},
   "outputs": [],
   "source": [
    "lcr_df = column_filter(lcr_df, lc_filtro_columnas)"
   ]
  },
  {
   "cell_type": "code",
   "execution_count": 29,
   "metadata": {},
   "outputs": [],
   "source": [
    "lcr_df = nan_cleaner(lcr_df)"
   ]
  },
  {
   "cell_type": "code",
   "execution_count": 30,
   "metadata": {
    "scrolled": false
   },
   "outputs": [
    {
     "data": {
      "text/html": [
       "<div>\n",
       "<style scoped>\n",
       "    .dataframe tbody tr th:only-of-type {\n",
       "        vertical-align: middle;\n",
       "    }\n",
       "\n",
       "    .dataframe tbody tr th {\n",
       "        vertical-align: top;\n",
       "    }\n",
       "\n",
       "    .dataframe thead th {\n",
       "        text-align: right;\n",
       "    }\n",
       "</style>\n",
       "<table border=\"1\" class=\"dataframe\">\n",
       "  <thead>\n",
       "    <tr style=\"text-align: right;\">\n",
       "      <th></th>\n",
       "      <th>ParentKey</th>\n",
       "      <th>LineNum</th>\n",
       "      <th>Product Number</th>\n",
       "      <th>Product Description</th>\n",
       "      <th>Instance Number</th>\n",
       "      <th>PAK/Serial Number</th>\n",
       "      <th>Start Date</th>\n",
       "      <th>End Date</th>\n",
       "      <th>U_StatusVendor</th>\n",
       "      <th>Service Level Description</th>\n",
       "      <th>U_OV</th>\n",
       "      <th>End Customer Name</th>\n",
       "      <th>U_VendorContract</th>\n",
       "    </tr>\n",
       "  </thead>\n",
       "  <tbody>\n",
       "    <tr>\n",
       "      <th>0</th>\n",
       "      <td></td>\n",
       "      <td>1</td>\n",
       "      <td>AIR-CT5508-50-K9</td>\n",
       "      <td>^5508 Series Controller for up to 50 APs</td>\n",
       "      <td>1526561268</td>\n",
       "      <td>FCW1728L01U</td>\n",
       "      <td>2021-01-20</td>\n",
       "      <td>2021-12-31</td>\n",
       "      <td></td>\n",
       "      <td>SNTC 8X5XNBD</td>\n",
       "      <td></td>\n",
       "      <td>CABLEVISION</td>\n",
       "      <td></td>\n",
       "    </tr>\n",
       "    <tr>\n",
       "      <th>1</th>\n",
       "      <td></td>\n",
       "      <td>2</td>\n",
       "      <td>PI-MSE-PRMO-INSRT</td>\n",
       "      <td>Insert, Packout - PI-MSE</td>\n",
       "      <td>1526561310</td>\n",
       "      <td></td>\n",
       "      <td>2021-01-20</td>\n",
       "      <td>2021-12-31</td>\n",
       "      <td></td>\n",
       "      <td>SNTC 8X5XNBD</td>\n",
       "      <td></td>\n",
       "      <td>CABLEVISION</td>\n",
       "      <td></td>\n",
       "    </tr>\n",
       "  </tbody>\n",
       "</table>\n",
       "</div>"
      ],
      "text/plain": [
       "  ParentKey  LineNum     Product Number  \\\n",
       "0                  1   AIR-CT5508-50-K9   \n",
       "1                  2  PI-MSE-PRMO-INSRT   \n",
       "\n",
       "                        Product Description  Instance Number  \\\n",
       "0  ^5508 Series Controller for up to 50 APs       1526561268   \n",
       "1                  Insert, Packout - PI-MSE       1526561310   \n",
       "\n",
       "  PAK/Serial Number Start Date   End Date U_StatusVendor  \\\n",
       "0       FCW1728L01U 2021-01-20 2021-12-31                  \n",
       "1                   2021-01-20 2021-12-31                  \n",
       "\n",
       "  Service Level Description U_OV End Customer Name U_VendorContract  \n",
       "0              SNTC 8X5XNBD            CABLEVISION                   \n",
       "1              SNTC 8X5XNBD            CABLEVISION                   "
      ]
     },
     "execution_count": 30,
     "metadata": {},
     "output_type": "execute_result"
    }
   ],
   "source": [
    "lcr_df.head(2)"
   ]
  },
  {
   "cell_type": "markdown",
   "metadata": {},
   "source": [
    "> **NOTA:** A partir de ahora `lcr_df` es el \"Data Frame base\" utilizado para replicarlo en cada contrato"
   ]
  },
  {
   "cell_type": "markdown",
   "metadata": {},
   "source": [
    "#### 1.3.5 RECORRIDA CABECERA CONTRATO Y ARMADO DE TODAS LAS LINEAS DE CONTRATO\n",
    "Esta recorrida se utiliza para armar el listado completo de lineas de contrato basándose para ello en la cantidad de contratos cargados en \"Cabecera Contrato\""
   ]
  },
  {
   "cell_type": "code",
   "execution_count": 31,
   "metadata": {},
   "outputs": [
    {
     "data": {
      "text/html": [
       "<div>\n",
       "<style scoped>\n",
       "    .dataframe tbody tr th:only-of-type {\n",
       "        vertical-align: middle;\n",
       "    }\n",
       "\n",
       "    .dataframe tbody tr th {\n",
       "        vertical-align: top;\n",
       "    }\n",
       "\n",
       "    .dataframe thead th {\n",
       "        text-align: right;\n",
       "    }\n",
       "</style>\n",
       "<table border=\"1\" class=\"dataframe\">\n",
       "  <thead>\n",
       "    <tr style=\"text-align: right;\">\n",
       "      <th></th>\n",
       "      <th>ContractID</th>\n",
       "      <th>CstmrCode</th>\n",
       "      <th>Status</th>\n",
       "      <th>CntrcType</th>\n",
       "      <th>Renewal</th>\n",
       "      <th>StartDate</th>\n",
       "      <th>EndDate</th>\n",
       "      <th>Descriptio</th>\n",
       "      <th>SrvcType</th>\n",
       "      <th>U_ServType</th>\n",
       "      <th>U_Provider</th>\n",
       "      <th>U_ServiceName</th>\n",
       "      <th>U_OV</th>\n",
       "      <th>U_statusVendor</th>\n",
       "    </tr>\n",
       "  </thead>\n",
       "  <tbody>\n",
       "    <tr>\n",
       "      <th>0</th>\n",
       "      <td>0</td>\n",
       "      <td>C30500010084</td>\n",
       "      <td>scs_Approved</td>\n",
       "      <td>ct_SerialNumber</td>\n",
       "      <td>tNO</td>\n",
       "      <td>2021-12-01</td>\n",
       "      <td>2021-12-31</td>\n",
       "      <td>NaN</td>\n",
       "      <td>bst_Regular</td>\n",
       "      <td>NaN</td>\n",
       "      <td>CISCO</td>\n",
       "      <td>SMARTNET</td>\n",
       "      <td>u_ov_smartnet</td>\n",
       "      <td>u_status_cisco</td>\n",
       "    </tr>\n",
       "    <tr>\n",
       "      <th>1</th>\n",
       "      <td>1</td>\n",
       "      <td>C30500010084</td>\n",
       "      <td>scs_Approved</td>\n",
       "      <td>ct_SerialNumber</td>\n",
       "      <td>tNO</td>\n",
       "      <td>2021-12-01</td>\n",
       "      <td>2021-12-31</td>\n",
       "      <td>NaN</td>\n",
       "      <td>bst_Regular</td>\n",
       "      <td>NaN</td>\n",
       "      <td>BVS</td>\n",
       "      <td>BCARE</td>\n",
       "      <td>u_ov_bcare</td>\n",
       "      <td>u_status_bvs</td>\n",
       "    </tr>\n",
       "  </tbody>\n",
       "</table>\n",
       "</div>"
      ],
      "text/plain": [
       "   ContractID     CstmrCode        Status        CntrcType Renewal  StartDate  \\\n",
       "0           0  C30500010084  scs_Approved  ct_SerialNumber     tNO 2021-12-01   \n",
       "1           1  C30500010084  scs_Approved  ct_SerialNumber     tNO 2021-12-01   \n",
       "\n",
       "     EndDate  Descriptio     SrvcType  U_ServType U_Provider U_ServiceName  \\\n",
       "0 2021-12-31         NaN  bst_Regular         NaN      CISCO      SMARTNET   \n",
       "1 2021-12-31         NaN  bst_Regular         NaN        BVS         BCARE   \n",
       "\n",
       "            U_OV  U_statusVendor  \n",
       "0  u_ov_smartnet  u_status_cisco  \n",
       "1     u_ov_bcare    u_status_bvs  "
      ]
     },
     "execution_count": 31,
     "metadata": {},
     "output_type": "execute_result"
    }
   ],
   "source": [
    "ccr_df"
   ]
  },
  {
   "cell_type": "code",
   "execution_count": 32,
   "metadata": {},
   "outputs": [],
   "source": [
    "# Creacion de un df vacío con las columnas de linea de contrato. Este df luego se utilizará para el armado del CSV.\n",
    "lcr_total_df = pd.DataFrame(columns=lc_filtro_columnas)\n",
    "\n",
    "# Recorrida de cabecera de contrato para consolidar las lineas de contrato en lcr_total_df\n",
    "for i in range(len(ccr_df)):\n",
    "    ParentKey = ccr_df.loc[i,\"ContractID\"]\n",
    "    U_StatusVendor = ccr_df.loc[i,\"U_statusVendor\"]\n",
    "    U_OV = ccr_df.loc[i,\"U_OV\"]\n",
    "    U_VendorContract = ccr_df.loc[i,\"U_statusVendor\"]\n",
    "    \n",
    "    lcr_temp_df = lcr_df.copy()\n",
    "    lcr_temp_df[\"ParentKey\"] = ParentKey\n",
    "    lcr_temp_df[\"U_StatusVendor\"] = U_StatusVendor\n",
    "    lcr_temp_df[\"U_OV\"] = U_OV\n",
    "    lcr_temp_df[\"U_VendorContract\"] = U_VendorContract\n",
    "    \n",
    "    lcr_total_df = pd.concat([lcr_total_df, lcr_temp_df])"
   ]
  },
  {
   "cell_type": "markdown",
   "metadata": {},
   "source": [
    "#### 1.3.6 FORMATEO Y LIMPEZA DE DATOS DF TOTAL"
   ]
  },
  {
   "cell_type": "code",
   "execution_count": 33,
   "metadata": {},
   "outputs": [
    {
     "name": "stdout",
     "output_type": "stream",
     "text": [
      "MSG: Data-Frame listo para procesar en formato CSV\n"
     ]
    }
   ],
   "source": [
    "\n",
    "lcr_total_df = add_column_format(lcr_total_df, lc_filtro_columnas, lc_cabecera, lc_columnas_definitivas)\n"
   ]
  },
  {
   "cell_type": "markdown",
   "metadata": {},
   "source": [
    "#### 1.3.7 CREACION DE CSV"
   ]
  },
  {
   "cell_type": "code",
   "execution_count": 34,
   "metadata": {},
   "outputs": [],
   "source": [
    "# Salida en formato csv\n",
    "lcr_total_df.to_csv(\"./cmdb.templates.ok/1.test_LINEAS_CONTRATO.csv\", index = False)"
   ]
  },
  {
   "cell_type": "code",
   "execution_count": null,
   "metadata": {},
   "outputs": [],
   "source": []
  },
  {
   "cell_type": "code",
   "execution_count": null,
   "metadata": {},
   "outputs": [],
   "source": []
  },
  {
   "cell_type": "code",
   "execution_count": null,
   "metadata": {},
   "outputs": [],
   "source": []
  }
 ],
 "metadata": {
  "kernelspec": {
   "display_name": "Python 3",
   "language": "python",
   "name": "python3"
  },
  "language_info": {
   "codemirror_mode": {
    "name": "ipython",
    "version": 3
   },
   "file_extension": ".py",
   "mimetype": "text/x-python",
   "name": "python",
   "nbconvert_exporter": "python",
   "pygments_lexer": "ipython3",
   "version": "3.8.5"
  }
 },
 "nbformat": 4,
 "nbformat_minor": 2
}
